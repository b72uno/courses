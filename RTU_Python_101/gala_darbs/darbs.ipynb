{
 "cells": [
  {
   "cell_type": "markdown",
   "metadata": {},
   "source": [
    "## Datu analīzes projekts\n"
   ]
  },
  {
   "cell_type": "code",
   "execution_count": 10,
   "metadata": {},
   "outputs": [],
   "source": [
    "import pandas as pd\n",
    "from matplotlib import pyplot as plt"
   ]
  },
  {
   "cell_type": "markdown",
   "metadata": {},
   "source": [
    "Izmantosim Zviedru statistikas API https://pypi.org/project/pyscbwrapper/"
   ]
  },
  {
   "cell_type": "code",
   "execution_count": 11,
   "metadata": {},
   "outputs": [
    {
     "name": "stdout",
     "output_type": "stream",
     "text": [
      "Help on class SCB in module pyscbwrapper.scb:\n",
      "\n",
      "class SCB(builtins.object)\n",
      " |  SCB(lang, *args)\n",
      " |  \n",
      " |  Version 0.1.1\n",
      " |  \n",
      " |  Methods defined here:\n",
      " |  \n",
      " |  __init__(self, lang, *args)\n",
      " |      Initialize self.  See help(type(self)) for accurate signature.\n",
      " |  \n",
      " |  clear_query(self)\n",
      " |      Clears the query. Mostly an internal function to use in others.\n",
      " |  \n",
      " |  get_data(self)\n",
      " |      Returns the data from the constructed query.\n",
      " |  \n",
      " |  get_query(self)\n",
      " |      Returns the current query.\n",
      " |  \n",
      " |  get_url(self)\n",
      " |      Returns the url to the current folder.\n",
      " |  \n",
      " |  get_variables(self)\n",
      " |      Returns a dictionary of variables and their ranges for the bottom node.\n",
      " |  \n",
      " |  go_down(self, *args)\n",
      " |      Goes deeper in the hierarchical metadata structure.\n",
      " |  \n",
      " |  go_up(self, k=1)\n",
      " |      Goes k levels up in the hierarchical metadata structure.\n",
      " |  \n",
      " |  info(self)\n",
      " |      Returns the metadata associated with the current folder.\n",
      " |  \n",
      " |  set_query(self, **kwargs)\n",
      " |      Forms a query from input arguments.\n",
      " |  \n",
      " |  ----------------------------------------------------------------------\n",
      " |  Data descriptors defined here:\n",
      " |  \n",
      " |  __dict__\n",
      " |      dictionary for instance variables (if defined)\n",
      " |  \n",
      " |  __weakref__\n",
      " |      list of weak references to the object (if defined)\n",
      "\n"
     ]
    }
   ],
   "source": [
    "from pyscbwrapper import SCB\n",
    "help(SCB)"
   ]
  },
  {
   "cell_type": "markdown",
   "metadata": {},
   "source": [
    "Pārveidojam parametrus, lai darbojas ar Latvijas oficiālās statistikas portāla API, atbilstoši [instrukcijai](https://www.youtube.com/watch?v=8XrjbT7tLno&feature=emb_logo).\n",
    "\n",
    "\n",
    "https://stat.gov.lv/lv/api-un-kodu-vardnicas/api"
   ]
  },
  {
   "cell_type": "code",
   "execution_count": 15,
   "metadata": {},
   "outputs": [
    {
     "data": {
      "text/plain": [
       "[{'id': 'POP', 'type': 'l', 'text': 'Iedzīvotāji'},\n",
       " {'id': 'EMP', 'type': 'l', 'text': 'Darbs'},\n",
       " {'id': 'VES', 'type': 'l', 'text': 'Sociālā aizsardzība un veselība'},\n",
       " {'id': 'IZG', 'type': 'l', 'text': 'Izglītība, kultūra un zinātne'},\n",
       " {'id': 'VEK', 'type': 'l', 'text': 'Valsts un ekonomika'},\n",
       " {'id': 'FIN', 'type': 'l', 'text': 'Finanšu, ieguldījumu un kredītu tirgus'},\n",
       " {'id': 'TIR', 'type': 'l', 'text': 'Tirdzniecība un pakalpojumi'},\n",
       " {'id': 'ENT', 'type': 'l', 'text': 'Uzņēmējdarbība'},\n",
       " {'id': 'IKT', 'type': 'l', 'text': 'Informācijas tehnoloģijas'},\n",
       " {'id': 'NOZ', 'type': 'l', 'text': 'Nozares'},\n",
       " {'id': 'ENV', 'type': 'l', 'text': 'Vide'}]"
      ]
     },
     "execution_count": 15,
     "metadata": {},
     "output_type": "execute_result"
    }
   ],
   "source": [
    "lang = \"lv\"\n",
    "scb = SCB(lang)\n",
    "scb.url = 'https://data.stat.gov.lv/api/v1/{}/OSP_PUB/'.format(lang)\n",
    "scb.url_out = 'https://data.stat.gov.lv/pxweb/{}/OSP_PUB/START__'.format(lang)\n",
    "scb.info()"
   ]
  },
  {
   "cell_type": "markdown",
   "metadata": {},
   "source": []
  },
  {
   "cell_type": "code",
   "execution_count": null,
   "metadata": {},
   "outputs": [],
   "source": [
    "scb = SCB(lang, 'POP')"
   ]
  }
 ],
 "metadata": {
  "kernelspec": {
   "display_name": "Python 3",
   "language": "python",
   "name": "python3"
  },
  "language_info": {
   "codemirror_mode": {
    "name": "ipython",
    "version": 3
   },
   "file_extension": ".py",
   "mimetype": "text/x-python",
   "name": "python",
   "nbconvert_exporter": "python",
   "pygments_lexer": "ipython3",
   "version": "3.9.1"
  }
 },
 "nbformat": 4,
 "nbformat_minor": 4
}
