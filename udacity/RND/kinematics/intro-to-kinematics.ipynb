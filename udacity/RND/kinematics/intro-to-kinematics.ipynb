{
 "cells": [
  {
   "cell_type": "markdown",
   "metadata": {},
   "source": [
    "# Intro to Kinematics\n",
    "\n",
    "Kinematics is a branch of classical mechanics that studies how things move without considering the forces required to produce the motion. \n",
    "\n",
    "\n",
    "- Reference frames\n",
    "- Degrees of freedom\n",
    "- Generalized coordinates\n",
    "- Homogenous transforms\n",
    "\n",
    "![](forward-inverse.png)\n",
    "\n",
    "Solving inverse kinematic problem is much more challenging than the forward one.\n",
    "\n",
    "### Degrees of freedom\n",
    "The phrase \"Degrees of Freedom\" (DoF) refers to the minimum number of variables that are required to define the position or configuration of a mechanism in space. 2-Dof manipulator with all the parts labeled:\n",
    "\n",
    "![](2dof-arm.png)\n"
   ]
  },
  {
   "cell_type": "code",
   "execution_count": 36,
   "metadata": {
    "collapsed": true
   },
   "outputs": [],
   "source": [
    "import matplotlib.pyplot as plt\n",
    "import numpy as np\n",
    "\n",
    "# A function to compute the arm configuration\n",
    "# NOTE: joint1_angle is the angle counterclockwise from the link1 axis\n",
    "def compute_arm_config(link1_length, link2_length, joint0_angle, joint1_angle):\n",
    "    # TODO: compute the (x, y) position of the p1 joint and the end effector at p2. \n",
    "    \n",
    "    joint1_x = np.cos(joint0_angle) * link1_length\n",
    "    joint1_y = np.sin(joint0_angle) * link1_length\n",
    "    \n",
    "    p2_x = np.cos(joint1_angle + joint0_angle) * link2_length + joint1_x\n",
    "    p2_y = np.sin(joint1_angle + joint0_angle) * link2_length + joint1_y\n",
    "    \n",
    "    return joint1_x, joint1_y, p2_x, p2_y"
   ]
  },
  {
   "cell_type": "code",
   "execution_count": 37,
   "metadata": {},
   "outputs": [
    {
     "name": "stdout",
     "output_type": "stream",
     "text": [
      "joint0_angle =  52.7  degrees\n",
      "joint1_angle =  348.0  degrees\n",
      "End Effector at x =  48.3  y = 48.9\n"
     ]
    }
   ],
   "source": [
    "# Generate random link lengths and joint angles\n",
    "# np.random.random.seed(1)\n",
    "link1_length = np.random.random() * 30 + 20\n",
    "link2_length = np.random.random() * 30 + 20\n",
    "joint0_angle = np.random.random() * 2 * np.pi\n",
    "joint1_angle = np.random.random() * 2 * np.pi\n",
    "\n",
    "joint1_x, joint1_y, p2_x, p2_y = compute_arm_config(link1_length, link2_length, joint0_angle, joint1_angle)\n",
    "\n",
    "print(\"joint0_angle = \", round(joint0_angle * 180 / np.pi, 1), \" degrees\")\n",
    "print(\"joint1_angle = \", round(joint1_angle * 180 / np.pi, 1), \" degrees\")\n",
    "print(\"End Effector at x = \", round(p2_x, 1), \" y =\", round(p2_y, 1))"
   ]
  },
  {
   "cell_type": "code",
   "execution_count": 38,
   "metadata": {},
   "outputs": [
    {
     "data": {
      "image/png": "[encoded data removed]",
      "text/plain": [
       "<matplotlib.figure.Figure at 0x7fa165a9e128>"
      ]
     },
     "metadata": {},
     "output_type": "display_data"
    }
   ],
   "source": [
    "base_x = 0\n",
    "base_y = 0\n",
    "\n",
    "# Plot the links\n",
    "plt.plot([base_x, joint1_x, p2_x], [base_y, joint1_y, p2_y])\n",
    "plt.plot(base_x, base_y, 'bs', markersize=15, label='Base')\n",
    "plt.plot(joint1_x, joint1_y, 'ro', markersize=15, label='Joint-1')\n",
    "plt.plot(p2_x, p2_y, 'g^', markersize=15, label='End Effector')\n",
    "plt.xlim(-100, 100)\n",
    "plt.ylim(-100, 100)\n",
    "plt.legend(fontsize=15)\n",
    "plt.show()"
   ]
  },
  {
   "cell_type": "markdown",
   "metadata": {},
   "source": [
    "### Generalized coordinates\n",
    "The coordinates used to describe the instantaneous configuration (snapshot in time) of a system are often called *[generalized coordinates](https://en.wikipedia.org/wiki/Generalized_coordinates). This therm *generalized* often refers to the notion that for some arbitrary system these could be angles, x and y coordinates or even some other quantity that has no geometrical significance.\n",
    "\n",
    "** DOF = number of independent generalized coordinates **\n",
    "\n",
    "The number of independent generalized coordinates that are required to describe the configuration of a system is equal to the number of degrees of freedom. In the 2-DoF manipulator exercise we chose two particular joint angles with respect to a particular reference frame, but we could have just as easily chosen other angles with respect to some other reference frame. The number of possible choices for the generalized coordinates that describe a system is, in fact, infinite, but the smart choice of which set of coordinates to use is the one that most simplifies the problem you're trying to solve.\n",
    "\n",
    "In the robotics of serial manipulators, you'll often run into the term \"configuration space\" or \"joint space\", which refers to the set of all possible configurations a manipulator may have. As you'll see later in this program, understanding of the configuration space is important for *path planning* and *obstacle avoidance*.\n"
   ]
  },
  {
   "cell_type": "markdown",
   "metadata": {},
   "source": [
    "### Joint Types\n",
    "![](joint-types.png)\n",
    "\n",
    "Joints can be grouped in lower order pairs, having one DoF and higher order pairs offering two or three DoF. For serial manipulators (aka robot arm or kinematic chain) the most common joint types are revolute and prismatic, allowing one rotational and one translational DoF respectively.\n",
    "\n",
    "For modeling purposes, higher order pairs can always be replaced by a collection of lower order pairs.\n"
   ]
  },
  {
   "cell_type": "markdown",
   "metadata": {},
   "source": [
    "Let's define the number of 1-DoF joints to be equal to n\n",
    "\n",
    "![](dof.png)\n",
    "\n",
    "The serial manipulator shown here has n=3 joints. 2 revolute (cylinders) and one prismatic (square). Each joint connects two links so the total number of links is n+1 = 4. Notice that the revolute described by theta connects the ground, i.e. fixed base link to the link between joints 1 and 2., Thus the total number of DoF for any serial manipulator with three 1-DoF joints is:\n",
    "\n",
    "DoF = 6 (number of moveable links) - 5 (number of 1-DoF joints) = 6(3) - 5(3) = (18 - 15) = 3\n",
    "\n",
    "The takeaway is this: **For serial manipulators with only revolute and/or prismatic joints, the number of degrees of freedom is always equal to the number of joints.** The exception to this rule is when both ends of the manipulator are fixed (closed chain linkage), as shown in the image below.\n",
    "\n",
    "![](exception-dof-joints.png)\n",
    "\n",
    "If a manipulator has more DoF than is required for its given task, it is said to be **kinematically redundant**. For example, if a three DoF arm is used to locate a rigid body on a plane, it would have one degree redundancy, since two generalized coordinates are needed to locate a point on a plane. However, to control both the position and orientation of a rigid body on a plane, a manipulator with at least three DoF is required.\n",
    "\n",
    "Kinematically redundant manipulators have a number of advantages. The eXtra DoF means that theyu are more dexterous and better at avoiding obstacles. Because they have more flexibility in terms of path planning, they can also be more energetically efficient. However, the redundancy comes at a cost, in that they are more difficult to control"
   ]
  },
  {
   "cell_type": "markdown",
   "metadata": {},
   "source": [
    "##  Principal Types of Serial Manipulators\n",
    "\n",
    "One of the ways serial manipulators are classified are in terms of their kinematic configuration of their arm, that is *the sequence of joint types for the first three movable links*. With only **revolute (R)** and **prismatic (P)** joints, there are only 8 permutations of possible arm configurations. The following 4 are commonly used in industry:\n",
    "\n",
    "- Cartesian (PPP)\n",
    "- Cylindrical (RPP)\n",
    "- Anthropomorphic (RRR)\n",
    "- Two variants (differ in their joint-axes-alignment):\n",
    " - SCARA (RRP) (all three joint axes are parallel)\n",
    " - SPHERICAL (RRP) \n",
    "----\n",
    "\n",
    "### Workspace \n",
    "Sometimes called *work volume* or *work envelope*, it is the set of all points reachable by the end effector and is a primary design constraint when selecting a manipulator for a task. The workspace can be divided into two regions: the *reachable workspace*, i.e. what is implied by the simpler term workspace, and the *dextrous workspace*. The dextrous workspace is the set of all points reachable by the end effector with an *arbitrary* orientation. The dextrous workspace is a subset of the reachable workspace.\n",
    "\n",
    "In many cases, e.g. machining or painting, the tool tip must interact with the environment in a particular configuration in order to have the desired result, so ensuring that the task lies completely within the manipulator's dextrous workspace, is essential. Unfortunately, it can be quite difficult to precisely define the boundary of the dextrous workspace.\n",
    "\n",
    "----\n",
    "\n"
   ]
  },
  {
   "cell_type": "markdown",
   "metadata": {},
   "source": [
    "### Cartesian Manipulator (PPP)\n",
    "![](cartesian-manipulator.png)\n",
    "\n",
    "The first three joints of a Cartesian manipulator are prismatic joints with mutually orthogonal axes of translation. \n",
    "\n",
    "**Pros:**\n",
    "- Can have very high positional accuracy\n",
    "- Large payloads (gantry)\n",
    "- Simplest control strategy since there are no rotational movements\n",
    "- Verry stiff structure\n",
    "\n",
    "**Cons:**\n",
    "- All the fixtures and associated equipment must lie within its workspace\n",
    "- Requires large operating volume\n",
    "\n",
    "**Typical Applications:**\n",
    "- Palletizing\n",
    "- Heavy assembly operations (e.g. cars and airplane fuselage)\n",
    "\n",
    "----\n",
    "\n"
   ]
  },
  {
   "cell_type": "markdown",
   "metadata": {},
   "source": [
    "### Cylindrical Manipulator (RPP)\n",
    "![Cylindrical Manipulator](cylindrical-manipulator.png)\n",
    "\n",
    "As the name suggests, the joints of a cylindrical manipulator are the cylindrical coordinates of the wrist center relative to the base. \n",
    "\n",
    "**Pros:**\n",
    "- Large, easy to visualize working envelope\n",
    "- Relatively inexpensive for their size and payload\n",
    "\n",
    "**Cons:**\n",
    "- Low average speed\n",
    "- Less repeatable than SCARA\n",
    "\n",
    "**Typical Applications:**\n",
    "- Depends on the size, small versions used for precision assembly, larger ones for material handling, machine loading/unloading.\n",
    "\n",
    "\n",
    "----\n"
   ]
  },
  {
   "cell_type": "markdown",
   "metadata": {},
   "source": [
    "### Anthropomorphic Manipulator (RRR)\n",
    "![Anthropomorphic Manipulator](antropomorphic-manipulator.png)\n",
    "\n",
    "Anthropomorphic (sometimes called *articulated*) manipulators provide a relatively large workspace with a compact design. The first revolute joint has a vertical axis of rotation and can be thought of as mimicking a human's ability to rotate at the waist. The other two revolute joints have axes of rotation that are perpendicular to the \"waist\" and mimic a one DoF \"shoulder\" and a one DoF \"elbow\"\n",
    "\n",
    "**Pros:**\n",
    "- Large workspace\n",
    "- Compact design\n",
    "\n",
    "**Cons:**\n",
    "- Positional accuracy and repeatability is not as good as some other designs\n",
    "\n",
    "**Typical Applications:**\n",
    "- Welding, spray painting, deburring, material handling\n",
    "\n",
    "----\n",
    "\n"
   ]
  },
  {
   "cell_type": "markdown",
   "metadata": {},
   "source": [
    "### SCARA (RPP)\n",
    "![SCARA](scara.png)\n",
    "\n",
    "The SCARA, or Selectively Compliant Assembly Robot Arm, was invented by Professor Hiroshi Makino of Yamanashi University (Japan) in the early 1980s. SCARA robots typically employ a single revolute wrist with the axis of rotation parallel to the other two revolute joints. Since the base link typically houses the actuators for the first two joints, the actuators can be very large and the moving links relatively light. Thus, **very high angular speeds** are obtainable with this design. The arm is very stiff in the vertical (z-axis), but very compliant in the x-y plane, which makes it ideal for the tasks such as inserting pegs or other fasteners into holes.\n",
    "\n",
    "**Pros:**\n",
    "- Fast\n",
    "- Compact structure\n",
    "\n",
    "**Cons:**\n",
    "- Operations requiring large vertical motions\n",
    "\n",
    "**Typical Applications:**\n",
    "- Precision, high-speed, light assembly with a planar environment\n",
    "\n",
    "----\n",
    "\n"
   ]
  },
  {
   "cell_type": "markdown",
   "metadata": {},
   "source": [
    "### Spherical (RRP)\n",
    "![Spherical Manipulator](spherical-manipulator.png)\n",
    "\n",
    "Like the cylindrical manipulator, the spherical manipulator's wrist center can also be described as a well-known coordinate system. Probably the best known version of this kinematic type is Stanford's Scheinman arm, invented by Victor Scheinman in 1969.\n",
    "\n",
    "It was adapted by manufacturers to become the leading robot in assembling and spot-welding products , ranging from fuel pumps and windshield wipers for automobiles to inkjet cartridges for printers.\n",
    "\n",
    "**Pros:**\n",
    "- Large working envelope\n",
    "\n",
    "**Cons:**\n",
    "- Complex coordinates, more difficult to visualize, control and program\n",
    "- Low accuracy\n",
    "- Relatively slow\n",
    "\n",
    "**Typical Applications:**\n",
    "- Material handling\n",
    "- Spot welding\n",
    "\n",
    "\n",
    "----\n",
    "\n"
   ]
  },
  {
   "cell_type": "markdown",
   "metadata": {},
   "source": [
    "One other type that we do not cover in this course, but should be aware of, is called ***parallel manipulator***. [Parallel manipulators](https://en.wikipedia.org/wiki/Parallel_manipulator) have many variants but they are characterized by all having at least one closed kinematic chain. The dynamics and control strategies can be quite more complex than serial manipulators, but in general they have more **precise movements due to their structural rigidity**.\n",
    "![Parallel Manipulators](parallel-manipulator.png)"
   ]
  },
  {
   "cell_type": "markdown",
   "metadata": {},
   "source": [
    "## Forward and Inverse Kinematics\n",
    "\n",
    "Manipulators have actuators that control prismatic and revolute joints, and the motion of these joints can be highly non-linear. Converting the manipulator's general coordinates into the position of the end effector, is known as solving the *Forward kinematics problem*. The first step to solving the forward kinematics problem is to see how to express vectors in different reference frames."
   ]
  },
  {
   "cell_type": "markdown",
   "metadata": {},
   "source": [
    "## Rotation matrices in 2D\n",
    "\n",
    "Rotation matrices have two conceptual, but mathematically equivalent interpretations. They can be viewed as a means of \"expressing\" a vector in one coordinate frame in terms of some other coordinate frame. This interpretation is known as *mapping* between frames.\n",
    "\n",
    "Alternatively, a rotation matrix can be seen as an \"operator\" that actually moves a vector within a single coordiante frame. It is important to be aware of this conceptual distinction because the particular application will dictate which description is used, but **do not let it confuse you: it's the same math!**\n",
    "\n",
    "![Rotation Matrices](rotation-matrices.png)\n",
    "\n",
    "Let's again consider a vector, v, with respect to reference frames A and B and take a more formal look at how to express v, whose measure numbers we may know in frame A, in terms of frame B:\n",
    "\n",
    "\n",
    "![](vector-v.png)\n",
    "![](vector-v-2.png)\n",
    "![](vector-v-3.png)\n",
    "![](vector-v-4.png)\n",
    "![](vector-v-5.png)\n"
   ]
  },
  {
   "cell_type": "markdown",
   "metadata": {},
   "source": [
    "The first term on the right-hand side of the equality in equation (5) is known as a rotation matrix and is generally written in a more compact form. Examining the columns of the rotation matrix, you can see that they are in fact basis vectors of frame B expressed in terms of the frame A. That is, \n",
    "\n",
    "![](rotation-matrix-1.png)\n",
    "\n",
    "Looking carefully, you may also notice something else - the rows of R are the projection of the A-frame onto B\n",
    "![](rotation-matrix-2.png)\n",
    "This relationship is interesting because it implies that the rotation from A to B is equal to the transpose of the rotation B to A. In fact, because rotation matrices are orthonormal matrices (composed of orthogonal unit vectors), they have several useful properties that, for the sake of brevity, we summarize without proof.\n",
    "\n",
    "Important properties of the rotation matrix:\n",
    "\n",
    "- 1) The transpose is equal to its inverse\n",
    "- 2) The determinant is equal to +1 (assuming a right-handed coordinate system)\n",
    "- 3) Columns (and rows) are mutually orthogonal unit vectors, therefore the maginuted of any column (or row) is equal to one and the dot product of any two columns (or rows) is equal to zero.\n",
    "- 4) The columns define the basis vectors (i.e. x,y,z axes) of the rotated frame, relative to the base frame. \n",
    "\n",
    "![](rotation-matrix-4.png)\n",
    "\n",
    "----\n",
    "\n",
    "A rotation around an axis of a coordinate frame is usually refered to as a *elementary rotation*"
   ]
  },
  {
   "cell_type": "markdown",
   "metadata": {},
   "source": [
    "Rotation matrix around z-axis\n",
    "![](rotation-matrix-z.png)"
   ]
  },
  {
   "cell_type": "markdown",
   "metadata": {},
   "source": [
    "SymPy is a full-featured computer algebra system (CAS) that enables us to construct and manipulate matrices symbolically and then numerically evaluate them when needed.\n",
    "\n",
    "Deriving expressions symbolically has two advantages:\n",
    "- First, seeing the equations can giive more insight into the system, at least for reasonably simple systems.\n",
    "- Second, there are numerical advantages. Since computers cannot perform floating point operations with infinite precision, there is inherently some amount of error in floating point ops and the errors can grow with the number of ops performed."
   ]
  },
  {
   "cell_type": "code",
   "execution_count": 1,
   "metadata": {},
   "outputs": [],
   "source": [
    "from sympy import symbols, cos, sin, pi, simplify\n",
    "from sympy.matrices import Matrix\n",
    "import numpy as np"
   ]
  },
  {
   "cell_type": "code",
   "execution_count": 2,
   "metadata": {},
   "outputs": [],
   "source": [
    "# Create symbols for joint variables which are commonly represented by \"q\"\n",
    "# Joint variable q is equal to theta or d, depending if the joint is revolute or prismatic\n",
    "q1, q2, q3, q4 = symbols('q1:5') # slices do not include the end value\n",
    "# unrelated symbols can be defined like this:\n",
    "A, R, O, C = symbols('A R O C')"
   ]
  },
  {
   "cell_type": "code",
   "execution_count": 3,
   "metadata": {},
   "outputs": [],
   "source": [
    "# Conversation factors\n",
    "r2d = 180. / np.pi # radians to degrees\n",
    "d2r = np.pi / 180. # degrees to radians"
   ]
  },
  {
   "cell_type": "code",
   "execution_count": 4,
   "metadata": {},
   "outputs": [],
   "source": [
    "# Create rotation matrices for elementary rotations about the X, Y and Z axes, respectively. \n",
    "# Matrices are constructed using the Matrix object. \n",
    "R_x = Matrix([[1, 0, 0],\n",
    "              [0, cos(q1), -sin(q1)],\n",
    "              [0, sin(q1), cos(q1)]])\n",
    "\n",
    "R_y = Matrix([[cos(q2), 0, sin(q2)],\n",
    "              [0, 1, 0],\n",
    "              [-sin(q2), 0, cos(q2)]])\n",
    "\n",
    "R_z = Matrix([[cos(q3), -sin(q3), 0],\n",
    "              [sin(q3), cos(q3), 0],\n",
    "              [0, 0, 1]])"
   ]
  },
  {
   "cell_type": "markdown",
   "metadata": {},
   "source": [
    "A dictionary is passed to the symbolic expression and the evalf method evaluates it as a floating point. The dictionary allows you to substitute multiple values simultaneously."
   ]
  },
  {
   "cell_type": "code",
   "execution_count": 5,
   "metadata": {},
   "outputs": [
    {
     "name": "stdout",
     "output_type": "stream",
     "text": [
      "Rotation about the X-axis by 45-degrees\n",
      "Matrix([[1.00000000000000, 0, 0], [0, 0.707106781186548, -0.707106781186547], [0, 0.707106781186547, 0.707106781186548]])\n",
      "Rotation about the Y-axis by 45-degrees\n",
      "Matrix([[0.707106781186548, 0, 0.707106781186547], [0, 1.00000000000000, 0], [-0.707106781186547, 0, 0.707106781186548]])\n",
      "Rotationt about the Z-axis by 30-degrees\n",
      "Matrix([[0.866025403784439, -0.500000000000000, 0], [0.500000000000000, 0.866025403784439, 0], [0, 0, 1.00000000000000]])\n"
     ]
    }
   ],
   "source": [
    "print(\"Rotation about the X-axis by 45-degrees\")\n",
    "print(R_x.evalf(subs={q1: 45*d2r}))\n",
    "print(\"Rotation about the Y-axis by 45-degrees\")\n",
    "print(R_y.evalf(subs={q2: 45*d2r}))\n",
    "print(\"Rotationt about the Z-axis by 30-degrees\")\n",
    "print(R_z.evalf(subs={q3: 30*d2r}))"
   ]
  },
  {
   "cell_type": "markdown",
   "metadata": {},
   "source": [
    "## Euler Angles\n",
    "There are numerous conventions regarding the use of Euler Angles, so you must identify which conventions are being used:\n",
    "- 1) Tait-Bryan vs Classic\n",
    "- 2) Rotation Order\n",
    "- 3) Intrinsic (body fixed) rotations vs Extrinsic (fixed axis) rotations\n",
    "\n",
    "**Tait-Bryan vs Classic**\n",
    "Each elementary rotation is performed about a *different* cartesian axis.\n",
    "![](tait-bryan-vs-classic.png)\n",
    "\n",
    "\n",
    "**Rotation Order**\n",
    "Rotations are non-commutative operations, i.e. order matters.\n",
    "Rotation about Y-axis, followed by a Z-axis will not result in the same result as doing it vice-versa.\n",
    "\n",
    "\n",
    "**Extrinsic vs Intrinsic**\n",
    "Extrinsic rotations are performed about the *fixed world reference frame*, in literature often refered to as Fixed-axis rotations.\n",
    "Intrinsic rotations are performed about the coordinate system as rotated by the *previous operation*.\n",
    "\n",
    "![](extrinsic-rotation.png)\n",
    "![](intrinsic-rotation.png)\n",
    "![](intrinsic-vs-extrinsic.png)\n",
    "\n",
    "Although Euler angles and rotation matrices are relatively intuitive, they do suffer from two significant drawbacks. First, are issues related to numerical performance. Defining the orientation of a rigid body in a three-dimensional environment only requires three generalized coordinates, however, rotation matrices can contain nine elements. Clearly not all nine elements are independent and more memory is required to capture the orientation information than is required using a minimal set.\n",
    "\n",
    "Rotation matrices are also not very *numerically stable*. Rounding errors associated with the repeated multiplication of rotation matrices also creates *numerical drift*. This means, that over time, the orthonormality conditions can be violated and the matrix no longer will be a valid rotation matrix. Also, it is a non-trivial task to interpolate smoothly between two rotation matrices (this is particularly important for computer animations when trying to generate smooth animations between key frames).\n",
    "\n",
    "The second significant drawback is singularities of representation (not to be confused with kinematic singularities). Singularities of representation occur when the second rotation in sequence is such that the first and third coordinate frames become aligned, causing a loss of a degree of freedom. This is often called *\"gimbal lock\"*. In the case of the Z-Y-X rotation sequence used in Eq4, observe what happens to the overall rotation matrix when beta = pi / 2\n",
    "\n",
    "![](gimbal-lock.png)\n",
    "\n",
    "Notice that no matter what the angles alpha and gamma may be, they have no effect on the X component. It is important to note that there is nothing wrong or physically inhibiting rotational motion, it is rather a mathematical deficiency in the choice of representing rotational motions. Further, ALL conventions using only three parameters to describe orientation, suffer from singularities of representation. Therefore, a key consideration to using Euler angles in practice is to ensure that the range of motion of the object of interest does not come close to a singularity.\n"
   ]
  },
  {
   "cell_type": "code",
   "execution_count": 7,
   "metadata": {},
   "outputs": [],
   "source": [
    "q1, q2 = symbols('q1:3')\n",
    "\n",
    "R_y = Matrix([[cos(q1), 0, sin(q1)],\n",
    "              [0, 1, 0],\n",
    "              [-sin(q1), 0, cos(q1)]])\n",
    "R_z = Matrix([[cos(q2), -sin(q2), 0],\n",
    "              [sin(q2), cos(q2), 0],\n",
    "              [0, 0, 1]])"
   ]
  },
  {
   "cell_type": "code",
   "execution_count": 8,
   "metadata": {},
   "outputs": [
    {
     "name": "stdout",
     "output_type": "stream",
     "text": [
      "Matrix([[0.353553390593274, -0.612372435695794, 0.707106781186547], [0.866025403784439, 0.500000000000000, 0], [-0.353553390593274, 0.612372435695794, 0.707106781186548]])\n"
     ]
    }
   ],
   "source": [
    "YZ_intrinsic_sym = R_y * R_z\n",
    "\n",
    "YZ_intrinsic_num = YZ_intrinsic_sym.evalf(subs={q1: 45*d2r,\n",
    "                                                q2: 60*d2r})\n",
    "print(YZ_intrinsic_num)"
   ]
  },
  {
   "cell_type": "code",
   "execution_count": 13,
   "metadata": {},
   "outputs": [
    {
     "name": "stdout",
     "output_type": "stream",
     "text": [
      "Matrix([[0.353553390593274, -0.612372435695794, 0.707106781186547], [0.866025403784439, 0.500000000000000, 0], [-0.353553390593274, 0.612372435695794, 0.707106781186548]])\n"
     ]
    }
   ],
   "source": [
    "ZY_extrinsic_sym = R_y * R_z\n",
    "ZY_extrinsic_num = (ZY_extrinsic_sym.evalf(subs={q1: 45*d2r,\n",
    "                                                q2: 60*d2r}))\n",
    "print(ZY_extrinsic_num)"
   ]
  },
  {
   "cell_type": "markdown",
   "metadata": {},
   "source": [
    "** An extrinsic rotation sequence of A, B, C is equal to an intrinsic rotation sequence C, B, A **\n",
    "\n",
    "----\n",
    "\n",
    "### Euler Angles from a Rotation Matrix\n",
    "In many cases, particularly involving inverse kinematics, we are given a composite rotation matrix and it is necessary to find a set of Euler Angles that would produce this rotation. The specific solution depends on the choice of Euler Angles, but the basic procedure is the same.\n",
    "\n",
    "Consider the *extrinsic* i.e. fixed-axis X-Y-Z rotation sequence. The composite rotation matrix is,\n",
    "![](extrinsic-rotation-sequence.png)\n"
   ]
  },
  {
   "cell_type": "markdown",
   "metadata": {},
   "source": [
    "The goal is to find the angles alpha, beta and gamma, given that numerical values for r_ij are known. The solution is to use various combinations so that each angle can be individually isolated and solved explicitly. Using the simplest terms possible seems to be a prudent strategy. Although beta appears in isolation element r_31, it is not a good idea to solve for angles using the inverse of the sine or cosine functions. The reason is the ambiguity in sign: if -sin(beta) = 0.5, in which quadrant is the angle? This type of ambiguity is avoided by using the atan2 function. The syntax depends on the language or library used, but is often: `atan2(y,x)`, thus it is posible to find beta, gamma and alpha as follows:\n",
    "\n",
    "![](find-beta.png)\n",
    "![](find-gamma.gif)\n",
    "![](find-alpha.gif)\n",
    "\n",
    "What happens then when cos(beta) = 0, i.e. when beta = +/- 90 degrees? At this point, atan2 is undefined and, as we saw with Euler Angles, the system exhibits a *singularity of representation*."
   ]
  },
  {
   "cell_type": "code",
   "execution_count": 28,
   "metadata": {},
   "outputs": [
    {
     "name": "stdout",
     "output_type": "stream",
     "text": [
      "45.0000000000000 60.0000000000000 30.0000000000000\n"
     ]
    }
   ],
   "source": [
    "import numpy as np\n",
    "from sympy.matrices import Matrix\n",
    "\n",
    "from sympy import symbols, atan2, sqrt\n",
    "\n",
    "# Fixed Axis X-Y-Z Rotation Matrix\n",
    "R_XYZ = Matrix([[ 0.353553390593274, -0.306186217847897, 0.883883476483184],\n",
    "            [ 0.353553390593274,  0.918558653543692, 0.176776695296637],\n",
    "            [-0.866025403784439,               0.25, 0.433012701892219]])\n",
    "\n",
    "r2d = lambda x: x * 180. / np.pi # radians to degrees\n",
    "\n",
    "r = R_XYZ\n",
    "r11 = r.row(0)[0]\n",
    "r12 = r.row(0)[1]\n",
    "r13 = r.row(0)[2]\n",
    "r21 = r.row(1)[0]\n",
    "r22 = r.row(1)[1]\n",
    "r23 = r.row(1)[2]\n",
    "r31 = r.row(2)[0]\n",
    "r32 = r.row(2)[1]\n",
    "r33 = r.row(2)[2]\n",
    "\n",
    "# Calculate the Euler angles that produces a rotation equivalent to R (above)\n",
    "# Answer has units of degrees\n",
    "\n",
    "beta = r2d(atan2(-r31, sqrt(r11**2 + r21**2)))\n",
    "gamma = r2d(atan2(r32, r33))\n",
    "alpha = r2d(atan2(r21, r11))\n",
    "\n",
    "print(alpha, beta, gamma)"
   ]
  },
  {
   "cell_type": "markdown",
   "metadata": {},
   "source": [
    "## Translations\n",
    "\n",
    "In comparison to rotating reference frames, translations are much simpler. Here we consider two reference frames, A and B, that have the same orientation, but their origins, A and B are no longer coincident. The position of point P, relative to B is denoted by vector BrP/B0. \n",
    "\n",
    "![](translation-vector.png)\n",
    "\n",
    "The goal then is to describe P relative to A0\n",
    "\n",
    "![](translation.png)\n",
    "\n",
    "Because both frames have the same relative orientation, describing P relative to A0 only requires simple vector addition:\n",
    "\n",
    "![](translation-add.gif)\n",
    "\n",
    "where ArB0/A0 is the origin of the B frame relative to the origin of the A frame. It is important to note that the location of point P has not changed in any way, we have simply described its position relative to a different frame of reference.\n",
    "\n",
    "![](homogenous-transform.png)\n",
    "![](homogenous-transform-problem.png)"
   ]
  },
  {
   "cell_type": "code",
   "execution_count": 43,
   "metadata": {},
   "outputs": [
    {
     "name": "stdout",
     "output_type": "stream",
     "text": [
      "P_new is : Matrix([[42.0*sin(q1) + 15.0*cos(q1) + 1.0], [0], [-15.0*sin(q1) + 42.0*cos(q1) + 30.0], [1.00000000000000]])\n",
      "The new coordinates of P_A are : Matrix([[35.3367879231231], [0], [1.53976466853329], [1.00000000000000]])\n"
     ]
    }
   ],
   "source": [
    "# Homogeneous Transforms and their Inverse\n",
    "from sympy import symbols, cos, sin, pi, simplify, sqrt, atan2\n",
    "from sympy.matrices import Matrix\n",
    "\n",
    "\n",
    "###############################################################\n",
    "# Problem Statement:\n",
    "  # Let P be a vector expressed in frame {B} with (x,y,z)\n",
    "  # coordinates = (15.0, 0.0, 42.0)\n",
    "  # Rotate P about the Y-axis by angle = 110 degrees. \n",
    "  # Then translate the vector 1 unit\n",
    "  # in the X-axis and 30 units in the Z-axis. \n",
    "  # Print the new (x, y, z) coordinates of P after the transformation.  \n",
    "###############################################################\n",
    "#### Create symbols for joint variables\n",
    "q1 = symbols('q1')\n",
    "gamma  = symbols('gamma')\n",
    "\n",
    "#### TO DO ####\n",
    "\n",
    "# Elementary rotation matrix for Y axis\n",
    "R_y = Matrix([[cos(q1), 0, sin(q1)],\n",
    "              [0, 1, 0],\n",
    "              [-sin(q1), 0, cos(q1)]])\n",
    "\n",
    "# Replace P and T with appropriate expressions and calculate new coordinates of P in {A}. \n",
    "\n",
    "# 4x1 Matrix\n",
    "P = Matrix([[15.0], [0.0], [42.0], [1.0]])     \n",
    "\n",
    "# 4x4 homogeneous Transform\n",
    "T = R_y.row_insert(3, Matrix([[0, 0, 0]]))\n",
    "T = T.col_insert(3, Matrix([1, 0, 30, 1]))\n",
    "\n",
    "P_new = simplify(T * P)\n",
    "\n",
    "print(\"P_new is :\", P_new)\n",
    "\n",
    "# Evaluate numerically\n",
    "print(\"The new coordinates of P_A are :\", P_new.evalf(subs={q1: 110*d2r}))"
   ]
  },
  {
   "cell_type": "markdown",
   "metadata": {},
   "source": [
    "### Composition of Homogenous Transforms"
   ]
  },
  {
   "cell_type": "code",
   "execution_count": 62,
   "metadata": {},
   "outputs": [
    {
     "name": "stdout",
     "output_type": "stream",
     "text": [
      "Transformation Matrix for A->B->E:\n",
      "Matrix([[0, -1.00000000000000, 0, -2.00000000000000], [0, 0, -1.00000000000000, 4.00000000000000], [1.00000000000000, 0, 0, 4.00000000000000], [0, 0, 0, 1.00000000000000]])\n",
      "Transformation Matrix for A->C->D->E:\n",
      "Matrix([[0, -1.00000000000000, 0, -2.00000000000000], [0, 0, -1.00000000000000, 4.00000000000000], [1.00000000000000, 0, 0, 4.00000000000000], [0, 0, 0, 1.00000000000000]])\n"
     ]
    }
   ],
   "source": [
    "from sympy import symbols, cos, sin, pi, sqrt, simplify\n",
    "from sympy.matrices import Matrix\n",
    "\n",
    "### Create symbols for joint variables\n",
    "# The numbers 1 to 4 correspond to each rotation in the order specified to you.\n",
    "q1, q2, q3, q4 = symbols('q1:5')\n",
    "\n",
    "### Conversation factors\n",
    "r2d = 180. / pi # radians to degrees\n",
    "d2r = pi / 180. # degrees to radians\n",
    "\n",
    "### Define functions for Rotation Matrices about x, y, and z given specific angle.\n",
    "\n",
    "def rot_x(q):\n",
    "    R_x = Matrix([[1      , 0       , 0],\n",
    "                 [0       , cos(q)  , -sin(q)],\n",
    "                 [0       , sin(q)  , cos(q)]])\n",
    "    return R_x\n",
    "\n",
    "def rot_y(q):\n",
    "    R_y = Matrix([[cos(q) , 0       , sin(q)],\n",
    "                 [0       , 1       , 0],\n",
    "                 [-sin(q) , 0       , cos(q)]])\n",
    "    return R_y\n",
    "\n",
    "def rot_z(q):\n",
    "    R_z = Matrix([[cos(q) , -sin(q) , 0],\n",
    "                 [sin(q)  , cos(q)  , 0],\n",
    "                 [0       , 0       , 1]])\n",
    "    return R_z\n",
    "\n",
    "### Define rotations between frames\n",
    "\n",
    "# Initial Rotation Matrix for Frame A\n",
    "Ra = Matrix([[1, 0, 0],\n",
    "             [0, 1, 0],\n",
    "             [0, 0, 1]])\n",
    "\n",
    "# Rotations performed on individual Frames for A->B->E\n",
    "Rb_a = rot_y(q1)\n",
    "Re_b = rot_x(q2)\n",
    "\n",
    "# Rotations performed on individual Frames for A->C->D->E\n",
    "Rc_a = Ra\n",
    "Rd_c = rot_x(q3)\n",
    "Re_d = rot_z(q4)\n",
    "\n",
    "### Define Translations between frames.\n",
    "\n",
    "tb_a = Matrix([[-2.] , [2.] , [4.] , [1.]])\n",
    "te_b = Matrix([[0]   , [2.] , [0]  , [1.]])\n",
    "tc_a = Matrix([[4.]  , [4.] , [0.] , [1.]])\n",
    "td_c = Matrix([[-3.] , [3.] , [2.] , [1.]])\n",
    "te_d = Matrix([[-3.] , [2.] , [3.] , [1.]])\n",
    "\n",
    "### Define homogenous transformation matrices\n",
    "# HINT: Check out sympy's documentation for functions row_join and col_join\n",
    "zeros = Matrix([[0, 0, 0]])\n",
    "z4 = Matrix([[0], [0], [0], [1]])\n",
    "\n",
    "Ta = Ra.col_join(zeros).row_join(z4)\n",
    "\n",
    "Tb_a = Rb_a.col_join(zeros).row_join(tb_a)\n",
    "\n",
    "Te_b = Re_b.col_join(zeros).row_join(te_b)\n",
    "\n",
    "Tc_a = Rc_a.col_join(zeros).row_join(tc_a)\n",
    "\n",
    "Td_c = Rd_c.col_join(zeros).row_join(td_c)\n",
    "\n",
    "Te_d = Re_d.col_join(zeros).row_join(te_d)\n",
    "\n",
    "### Composition of Transformations\n",
    "Te_a_1 = simplify(Ta * Tb_a * Te_b)\n",
    "\n",
    "Te_a_2 = simplify(Ta * Tc_a * Td_c * Te_d)\n",
    "\n",
    "### Calculate orientation and position for E\n",
    "E_1 = Te_a_1.evalf(subs={q1: d2r*-90, q2: d2r*90}, chop = True)\n",
    "\n",
    "E_2 = Te_a_2.evalf(subs={q3: d2r*90, q4: d2r*90}, chop = True)\n",
    "\n",
    "print(\"Transformation Matrix for A->B->E:\")\n",
    "print(E_1)\n",
    "\n",
    "print(\"Transformation Matrix for A->C->D->E:\")\n",
    "print(E_2)"
   ]
  },
  {
   "cell_type": "markdown",
   "metadata": {},
   "source": [
    "## Denavit-Hartenberg Parameters\n",
    "Rotations, translations and homogenous transforms are essential concepts to understand the *forward kinematics problem* of manipulators, that is, given the joint variables, calculate the location of the end effector.\n",
    "\n",
    "The solution procedure involves attaching a reference frame to each link of the manipulator and writing the homogenous transforms from the fixed base link to link1, link1 to link2 and so forth, all the way to the end effector. \n",
    "\n",
    "In general, *each* transform would require six independent paramters to describe frame I relative to I-1, three for position and three for orientation.\n",
    "\n",
    "In 1995, Jacques Denavit and Richard Hartenberg proposed a systematic method of attaching reference frames to the links of a manipulator that simplified the homogenous transforms. Their method only requires four parameters to describe the position and orientation of neighbouring reference frames. In the early days of robotics, the more compact forward kinematics equations provided substantial benefit as calculations were typically done by hand or on computers with limited processing power. As a result, the Denavit-Hartenberg (DH) method for describing manipulator kinematic is now ubiquitous. \n",
    "\n",
    "Since its original description, several modifications have been made to the DH method, mostly regarding the numbering and location of each reference frame's origin, so care must be taken to identify which convention is being used when comparing work from different sources. The five most common resources are listed below:\n",
    "\n",
    "- Waldron, KJ. A study of overconstrained linkage geometry by solution of closure equations, Part I: A method of study (1973). Mech. Mach. Theory 8(1):95-104.\n",
    "\n",
    "- Paul, R. (1982). Robot Manipulators: Mathematics, Programming and Control (MIT Press, Cambridge, MA)\n",
    "\n",
    "- Craig, JJ. (2005). Introduction to Robotics: Mechanics and Control, 3rd Ed (Pearson Education, Inc., NJ)\n",
    "\n",
    "- Khalil, W and Dombre, E. (2002). Modeling, Identification and Control of Robots (Taylor Francis, NY)\n",
    "\n",
    "- M. Spong and M. Vidyasagar, Robot Modeling and Control, Wiley, 2005\n",
    "\n",
    "We will be using the convention described in John J Craig's book.\n",
    "\n",
    "These differences in convention can make the comparison of results more difficult. It is important to always check how the sequence of homogenous transforms is performed to relate neighbouring links. The convention described below is consistent with Craig, (2005). The parameters involved - alpha, a, d and $θ$ are best understood with the aid of a figure:\n",
    "\n",
    "![](dh-parameters.png)\n",
    "![](dh-parameters-summary.png)\n",
    "![](dh-orientations.png)\n",
    "\n",
    "A unit vector that is mutually perpendicular to two vectors, is defined as:\n",
    "![](dh-unit-vec.png)\n",
    "i.e. the cross product divided by the magnitude of the cross product. Only in the case of skew axes, is X_i-1 unique. For intersecting axes, the choice of sign is arbitrary. The conventional wisdom is to choose the direction of X_i-1 such that a positive rotation of link i is intuitively satisfying. For parallel axes, there are infinitely many possibilities. In this case, you should look opportunities to place the origin of the reference frame where it can make some other paramteres equal to zero. Fianlly, the Y-axis is chosen to complete a right-handed coordinate system.\n",
    "\n",
    "The homogenous transform from I-1 to frame I is constructed as a sequence of four basic transformations, two rotations and two translations as follows:\n",
    "\n",
    "![](dh-homogenous-transform.png)\n",
    "\n",
    "Equations (1) and (3) are very important to understand. When learning to write the DH parameters for a new manipulator, new students often struggle with where to place reference frames, how to orient them and keeping track of the indices. A question you should always ask yourself is **\"Does the transform move the reference frame in link i-1 to be exactly coincident with the reference frame in link i?\"**\n",
    "\n",
    "If the answer is *yes*, that is a good sign! It is also important to note that in equation(3) there is only one parameter that is variable (either theta_i or d_i) - the link length and twist angle are constants. Thus, for the entire transform from base link to end effector, there are only n-variables.\n",
    "\n",
    "----"
   ]
  },
  {
   "cell_type": "markdown",
   "metadata": {},
   "source": [
    "## DH Parameter Assignment Algorithm\n",
    "\n",
    "The focus here is to algorithmically assign reference frames to the manipulator's links. Keep in mind that frame I is rigidly attached to link I. For convenience, the supporting figure is repeated:\n",
    "\n",
    "![](dh-parameters.png)\n",
    "\n",
    "The parameter assignment process for open kinematic chains with n degrees of freedom (i.e. joints) is summarized as:\n",
    "1. Label all joints from {1,2..n}\n",
    "2. Label all links from {0,1,...n} starting with the fixed base link as 0\n",
    "3. Draw lines through all joints, defining the joint axes\n",
    "4. Assign the Z-axis of each frame to point along its joint axis\n",
    "5. Identify the *common normal* between each frame $\\hat Z_{i-1}$ and frame $\\hat Z_i$\n",
    "6. The endpoints of \"intermediate links\" (i.e. not the base link or the end effector) are associated with two joint axes, $\\{i\\}$ and $\\{i+1\\}$. For i from 1 to n-1, assign the $\\hat X_i$ to be ...\n",
    "  - For skew axes, along the normal between $\\hat{Z}_i$ and $\\hat{Z}_{i+1}$ and pointing from {i} to {i+1}\n",
    "  - For intersecting axes, normal to the plane containing $\\hat{Z}_i$ and $\\hat{Z}_{i+1}$\n",
    "  - For parallel or coincident axes, the assignment is arbitrary - look for ways to make other DH parameters equal to zero.\n",
    "7. For the base link, always choose frame {0} to be coincident with frame {1} when the first joint variable ($\\theta_1$ or $d_1$) is equal to zero. This will guarantee that $\\alpha_0 = a_0 = 0$, and, if joint 1 is a revolute, $d_1 = 0$. If joint 1 is prismatic, then $\\theta_1 = 0$\n",
    "8. For the end effector frame, if joint n is revolute, choose $X_n$ to be in the direction of $X_{n-1}$ when $\\theta_n = 0$ and the origin of frame {n} such that $d_n = 0$\n",
    "\n",
    "Once the frame assignments are made, the DH parameters are typically represented in tabular form (below). Each row in the table corresponds to the transform from frame {i} to fram {i+1}.\n",
    "\n",
    "![](dh-parameters-table.png)\n",
    "\n",
    "To help with the upcoming assignments, we summarize some of the DH parameter simplifications to look for when choosing frame assignments.\n",
    "\n",
    "Special cases involving the $\\hat{Z}_{i-1}$ to $\\hat{Z}_i$ axes:\n",
    "- collinear lines: alpha = 0 and a = 0\n",
    "- parallel lines: alpha = 0 and a $\\neq$ 0\n",
    "- intersecting lines: alpha $\\neq$ 0 and a = 0\n",
    "- if the common normal intersects $\\hat{Z}_i$ at the origin frame i, then $d_i$ is zero\n",
    "\n",
    "Various authors have proposed multiple conventions for assigning DH parameters. Even if two analysts use the same convention, there is no guarantee that it will result in an identical assignment of frames to links. However, if the same base frame and same point is chosen as the origin of frame n, the overall transform from 0 to n would be the same regardless of what convention was used.\n"
   ]
  },
  {
   "cell_type": "markdown",
   "metadata": {},
   "source": [
    "![](scara-dh.png)\n",
    "\n",
    "SCARA manipulator, with all joint axes being parallel. Always draw schematics such as all revolute joints have 0 angle, and all prismatic joints have 0 displacement. \n",
    "\n",
    "Follow the algorithmic approach above (parameter assignment proccess).\n",
    "\n",
    "Step one - label all joints {1,2..n}.\n",
    "\n",
    "Step two - label all links {0,1..n}.\n",
    "\n",
    "Notice that links do not have to be straight line segments - it is enough for it to be a rigid body (see link 0 above).\n",
    "\n",
    "Step three is to draw lines (dotted lines) representing all joint axes.  \n",
    "\n",
    "Step four - define the common normals between the joint axes. All the axes are parallel and for joints 3 and 4 they are coincident. So there are infinitely many possibilities between each joint pair. Whenver there is a freedom to choose, look to minimise the non-zero DH parameters.\n",
    "\n",
    "![](scara-dh-2.png)\n",
    "\n",
    "Step five - assign the z axis to frame i to point along i-st frame joint axis. The line of action for each joint has already been defined, but you must decide whether the positive z-axis points up or down. In many applications it is common to define positive rotations to be counter-clockwise when viewed from above. This convention is shown here.\n",
    "\n",
    "Step six - define positive the x-axis for all the intermediate links, i.e. for all links, excluding the base and end effector. For z-axes that are parallel, the positive x axis should point along the common normal from $z_{i-1}$ to $z_i$. See $X_1$, $X_2$ and $X_3$. Technically $X_3$ can be pointed in any direction that is perpendicular to $Z_3$ and $Z_4$. You could think of this as a circular ring around z axes, but again, if you can make things parallel, it usually makes DH more parameters to 0. $X_3$ is down there, at the location of the gripper, to avoid the need for additional constant term -  $d_4$, which would be offset of the gripper with respect to the x-axis. \n",
    "\n",
    "Step seven is to assign the x axis of length 0. The number of non-zero DH parameters can always be minimized by always choosing $X_0$ coincident with $X_1$, when the first joint variable (here $\\theta_1$ is 0 and always choosing $Z_0$ to be coincident with $Z_1$.\n",
    "\n",
    "Finally, step eight - assigning the x-axis for link n, the last link. Here you always choose $X_n$ to be in the same direction as $X_{n-1}$, when the last joint has a 0 angle or 0 displacement (depending on what type of joint it is), thus $X_4$ is parallel to $X_3$.   \n",
    "\n",
    "The total homogenous transform relates the origin of link 0 to the origin of link 4. Notice that the origin of frame 0 is not physically connected to link 0. If you were really interested in knowing the transform relative to some point on the actual fixed base, then you could move $X_0$ down to that base, at the cost of introducing one or more non-zero DH parameters. \n",
    "\n",
    "![](scara-dh-3.png)\n",
    "\n",
    "Now, for the table. Each row is transform from $link_{i-1}$ to $link_i$. If your DH parameters are correct, then the basis vector of $link_{i-1}$ should be coincident with the corresponding basis vector and $link_i$ after the homogeneous transform is applied. For example, $X_0$ should map to $X_1$ and $Z_0$ should map to $Z_1$. \n",
    "\n",
    "**Row 1** - $\\alpha_0$ is the twist angle between $Z_0$ and $Z_1$, measured about $X_0$ in a right-hand sense. $a_0$ is the distance from $Z_0$ to $Z_1$ measured along $X_0$. As $Z_0$ and $Z_1$ are colinear, $\\alpha$ and $a$ is always 0. The link offset $d_1$ is the signed distance from $X_0$ to $X_1$, measured along $Z_1$. Again, 0 because colinear. Joint 1 is revolute, so $\\theta_1$ is the only non-constant term in row one. It measures the angle between $X_0$ and $X_1$ about $Z_1$ axis in a right-hand sense. Since they are parallel, the term is just $\\theta_1$. Important note: There may be cases where the two x axes are not parallel, even though the $\\theta$ is 0. If so, the theta term would be theta plus whatever non-zero the constant offset term happens to be. *Be aware of this*. \n",
    "\n",
    "**Row 2** - The transform betwen frames 1 and two. $Z_1$ is parallel to $Z_2$, so $\\alpha_1$ is again zero. $a_1$ is the distance from $Z_1$ to $Z_2$ measured along $X_1$. To find the actual numerical value for $a_1$, you would have to consult the manufacturers specs or the appropriate joint-origin tag in the manipulator's URDF file. $d_2$ is the signed distance from $X_1$ to $X_2$, measured along $Z_2$. Since $X_1$ is colinear to $X_2$, $d_2$ is zero. Joint two is another revolute, and the same logic applies as for joint one. \n",
    "\n",
    "**Row 3** - $Z_2$ is parallel to $Z_3$, which makes the twist angle $\\alpha_2$ equal to 0. $a_2$ is the distance between $Z_2$ and $Z_3$, measured along $X_2$. $d_3$ is the signed distance from $X_2$ to $X_3$, measured along $Z_3$. Notice that to get from $X_2$ to $X_3$, you would have to move in the negative $Z_3$ direction. Joint 3 is prismatic, which means $d_3$ is the only variable in row three, thus $\\theta_3$ is also zero. \n",
    "\n",
    "Finally, **Row 4** - This is similar to the transform between links zero and one, because the frame four was defined to be coindient with frame 3, when $\\theta_4$ equals to 0. As a result $\\alpha_3$, $a_3$ and $d_4$ are all zero, and $\\theta_4$ is just $\\theta_4$.\n",
    "\n",
    "$d_2$ is the signed distance from $X_1$ to $X_2$ measured along $Z_2$. Since $X_1$ is colinear to $X_2$, $d_2$ is 0.\n"
   ]
  },
  {
   "cell_type": "code",
   "execution_count": null,
   "metadata": {},
   "outputs": [],
   "source": [
    "\n"
   ]
  }
 ],
 "metadata": {
  "kernelspec": {
   "display_name": "Python [default]",
   "language": "python",
   "name": "python3"
  },
  "language_info": {
   "codemirror_mode": {
    "name": "ipython",
    "version": 3
   },
   "file_extension": ".py",
   "mimetype": "text/x-python",
   "name": "python",
   "nbconvert_exporter": "python",
   "pygments_lexer": "ipython3",
   "version": "3.5.2"
  },
  "widgets": {
   "state": {},
   "version": "1.1.2"
  }
 },
 "nbformat": 4,
 "nbformat_minor": 2
}
