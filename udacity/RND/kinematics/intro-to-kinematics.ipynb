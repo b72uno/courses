{
 "cells": [
  {
   "cell_type": "markdown",
   "metadata": {},
   "source": [
    "# Intro to Kinematics\n",
    "\n",
    "Kinematics is a branch of classical mechanics that studies how things move without considering the forces required to produce the motion. \n",
    "\n",
    "\n",
    "- Reference frames\n",
    "- Degrees of freedom\n",
    "- Generalized coordinates\n",
    "- Homogenous transforms\n",
    "\n",
    "![](forward-inverse.png)\n",
    "\n",
    "Solving inverse kinematic problem is much more challenging than the forward one.\n",
    "\n",
    "### Degrees of freedom\n",
    "The phrase \"Degrees of Freedom\" (DoF) refers to the minimum number of variables that are required to define the position or configuration of a mechanism in space. 2-Dof manipulator with all the parts labeled:\n",
    "\n",
    "![](2dof-arm.png)\n"
   ]
  },
  {
   "cell_type": "code",
   "execution_count": 36,
   "metadata": {
    "collapsed": true
   },
   "outputs": [],
   "source": [
    "import matplotlib.pyplot as plt\n",
    "import numpy as np\n",
    "\n",
    "# A function to compute the arm configuration\n",
    "# NOTE: joint1_angle is the angle counterclockwise from the link1 axis\n",
    "def compute_arm_config(link1_length, link2_length, joint0_angle, joint1_angle):\n",
    "    # TODO: compute the (x, y) position of the p1 joint and the end effector at p2. \n",
    "    \n",
    "    joint1_x = np.cos(joint0_angle) * link1_length\n",
    "    joint1_y = np.sin(joint0_angle) * link1_length\n",
    "    \n",
    "    p2_x = np.cos(joint1_angle + joint0_angle) * link2_length + joint1_x\n",
    "    p2_y = np.sin(joint1_angle + joint0_angle) * link2_length + joint1_y\n",
    "    \n",
    "    return joint1_x, joint1_y, p2_x, p2_y"
   ]
  },
  {
   "cell_type": "code",
   "execution_count": 37,
   "metadata": {},
   "outputs": [
    {
     "name": "stdout",
     "output_type": "stream",
     "text": [
      "joint0_angle =  52.7  degrees\n",
      "joint1_angle =  348.0  degrees\n",
      "End Effector at x =  48.3  y = 48.9\n"
     ]
    }
   ],
   "source": [
    "# Generate random link lengths and joint angles\n",
    "# np.random.random.seed(1)\n",
    "link1_length = np.random.random() * 30 + 20\n",
    "link2_length = np.random.random() * 30 + 20\n",
    "joint0_angle = np.random.random() * 2 * np.pi\n",
    "joint1_angle = np.random.random() * 2 * np.pi\n",
    "\n",
    "joint1_x, joint1_y, p2_x, p2_y = compute_arm_config(link1_length, link2_length, joint0_angle, joint1_angle)\n",
    "\n",
    "print(\"joint0_angle = \", round(joint0_angle * 180 / np.pi, 1), \" degrees\")\n",
    "print(\"joint1_angle = \", round(joint1_angle * 180 / np.pi, 1), \" degrees\")\n",
    "print(\"End Effector at x = \", round(p2_x, 1), \" y =\", round(p2_y, 1))"
   ]
  },
  {
   "cell_type": "code",
   "execution_count": 38,
   "metadata": {},
   "outputs": [
    {
     "data": {
      "image/png": "[encoded data removed]",
      "text/plain": [
       "<matplotlib.figure.Figure at 0x7fa165a9e128>"
      ]
     },
     "metadata": {},
     "output_type": "display_data"
    }
   ],
   "source": [
    "base_x = 0\n",
    "base_y = 0\n",
    "\n",
    "# Plot the links\n",
    "plt.plot([base_x, joint1_x, p2_x], [base_y, joint1_y, p2_y])\n",
    "plt.plot(base_x, base_y, 'bs', markersize=15, label='Base')\n",
    "plt.plot(joint1_x, joint1_y, 'ro', markersize=15, label='Joint-1')\n",
    "plt.plot(p2_x, p2_y, 'g^', markersize=15, label='End Effector')\n",
    "plt.xlim(-100, 100)\n",
    "plt.ylim(-100, 100)\n",
    "plt.legend(fontsize=15)\n",
    "plt.show()"
   ]
  },
  {
   "cell_type": "markdown",
   "metadata": {},
   "source": [
    "### Generalized coordinates\n",
    "The coordinates used to describe the instantaneous configuration (snapshot in time) of a system are often called *[generalized coordinates](https://en.wikipedia.org/wiki/Generalized_coordinates). This therm *generalized* often refers to the notion that for some arbitrary system these could be angles, x and y coordinates or even some other quantity that has no geometrical significance.\n",
    "\n",
    "** DOF = number of independent generalized coordinates **\n",
    "\n",
    "The number of independent generalized coordinates that are required to describe the configuration of a system is equal to the number of degrees of freedom. In the 2-DoF manipulator exercise we chose two particular joint angles with respect to a particular reference frame, but we could have just as easily chosen other angles with respect to some other reference frame. The number of possible choices for the generalized coordinates that describe a system is, in fact, infinite, but the smart choice of which set of coordinates to use is the one that most simplifies the problem you're trying to solve.\n",
    "\n",
    "In the robotics of serial manipulators, you'll often run into the term \"configuration space\" or \"joint space\", which refers to the set of all possible configurations a manipulator may have. As you'll see later in this program, understanding of the configuration space is important for *path planning* and *obstacle avoidance*.\n"
   ]
  },
  {
   "cell_type": "markdown",
   "metadata": {},
   "source": [
    "### Joint Types\n",
    "![](joint-types.png)\n",
    "\n",
    "Joints can be grouped in lower order pairs, having one DoF and higher order pairs offering two or three DoF. For serial manipulators (aka robot arm or kinematic chain) the most common joint types are revolute and prismatic, allowing one rotational and one translational DoF respectively.\n",
    "\n",
    "For modeling purposes, higher order pairs can always be replaced by a collection of lower order pairs.\n"
   ]
  },
  {
   "cell_type": "markdown",
   "metadata": {},
   "source": [
    "Let's define the number of 1-DoF joints to be equal to n\n",
    "\n",
    "![](dof.png)\n",
    "\n",
    "The serial manipulator shown here has n=3 joints. 2 revolute (cylinders) and one prismatic (square). Each joint connects two links so the total number of links is n+1 = 4. Notice that the revolute described by theta connects the ground, i.e. fixed base link to the link between joints 1 and 2., Thus the total number of DoF for any serial manipulator with three 1-DoF joints is:\n",
    "\n",
    "DoF = 6 (number of moveable links) - 5 (number of 1-DoF joints) = 6(3) - 5(3) = (18 - 15) = 3\n",
    "\n",
    "The takeaway is this: **For serial manipulators with only revolute and/or prismatic joints, the number of degrees of freedom is always equal to the number of joints.** The exception to this rule is when both ends of the manipulator are fixed (closed chain linkage), as shown in the image below.\n",
    "\n",
    "![](exception-dof-joints.png)\n",
    "\n",
    "If a manipulator has more DoF than is required for its given task, it is said to be **kinematically redundant**. For example, if a three DoF arm is used to locate a rigid body on a plane, it would have one degree redundancy, since two generalized coordinates are needed to locate a point on a plane. However, to control both the position and orientation of a rigid body on a plane, a manipulator with at least three DoF is required.\n",
    "\n",
    "Kinematically redundant manipulators have a number of advantages. The eXtra DoF means that theyu are more dexterous and better at avoiding obstacles. Because they have more flexibility in terms of path planning, they can also be more energetically efficient. However, the redundancy comes at a cost, in that they are more difficult to control"
   ]
  },
  {
   "cell_type": "markdown",
   "metadata": {},
   "source": [
    "##  Principal Types of Serial Manipulators\n",
    "\n",
    "One of the ways serial manipulators are classified are in terms of their kinematic configuration of their arm, that is *the sequence of joint types for the first three movable links*. With only **revolute (R)** and **prismatic (P)** joints, there are only 8 permutations of possible arm configurations. The following 4 are commonly used in industry:\n",
    "\n",
    "- Cartesian (PPP)\n",
    "- Cylindrical (RPP)\n",
    "- Anthropomorphic (RRR)\n",
    "- Two variants (differ in their joint-axes-alignment):\n",
    " - SCARA (RRP) (all three joint axes are parallel)\n",
    " - SPHERICAL (RRP) \n",
    "----\n",
    "\n",
    "### Workspace \n",
    "Sometimes called *work volume* or *work envelope*, it is the set of all points reachable by the end effector and is a primary design constraint when selecting a manipulator for a task. The workspace can be divided into two regions: the *reachable workspace*, i.e. what is implied by the simpler term workspace, and the *dextrous workspace*. The dextrous workspace is the set of all points reachable by the end effector with an *arbitrary* orientation. The dextrous workspace is a subset of the reachable workspace.\n",
    "\n",
    "In many cases, e.g. machining or painting, the tool tip must interact with the environment in a particular configuration in order to have the desired result, so ensuring that the task lies completely within the manipulator's dextrous workspace, is essential. Unfortunately, it can be quite difficult to precisely define the boundary of the dextrous workspace.\n",
    "\n",
    "----\n",
    "\n"
   ]
  },
  {
   "cell_type": "markdown",
   "metadata": {},
   "source": [
    "### Cartesian Manipulator (PPP)\n",
    "![](cartesian-manipulator.png)\n",
    "\n",
    "The first three joints of a Cartesian manipulator are prismatic joints with mutually orthogonal axes of translation. \n",
    "\n",
    "**Pros:**\n",
    "- Can have very high positional accuracy\n",
    "- Large payloads (gantry)\n",
    "- Simplest control strategy since there are no rotational movements\n",
    "- Verry stiff structure\n",
    "\n",
    "**Cons:**\n",
    "- All the fixtures and associated equipment must lie within its workspace\n",
    "- Requires large operating volume\n",
    "\n",
    "**Typical Applications:**\n",
    "- Palletizing\n",
    "- Heavy assembly operations (e.g. cars and airplane fuselage)\n",
    "\n",
    "----\n",
    "\n"
   ]
  },
  {
   "cell_type": "markdown",
   "metadata": {},
   "source": [
    "### Cylindrical Manipulator (RPP)\n",
    "![Cylindrical Manipulator](cylindrical-manipulator.png)\n",
    "\n",
    "As the name suggests, the joints of a cylindrical manipulator are the cylindrical coordinates of the wrist center relative to the base. \n",
    "\n",
    "**Pros:**\n",
    "- Large, easy to visualize working envelope\n",
    "- Relatively inexpensive for their size and payload\n",
    "\n",
    "**Cons:**\n",
    "- Low average speed\n",
    "- Less repeatable than SCARA\n",
    "\n",
    "**Typical Applications:**\n",
    "- Depends on the size, small versions used for precision assembly, larger ones for material handling, machine loading/unloading.\n",
    "\n",
    "\n",
    "----\n"
   ]
  },
  {
   "cell_type": "markdown",
   "metadata": {},
   "source": [
    "### Anthropomorphic Manipulator (RRR)\n",
    "![Anthropomorphic Manipulator](antropomorphic-manipulator.png)\n",
    "\n",
    "Anthropomorphic (sometimes called *articulated*) manipulators provide a relatively large workspace with a compact design. The first revolute joint has a vertical axis of rotation and can be thought of as mimicking a human's ability to rotate at the waist. The other two revolute joints have axes of rotation that are perpendicular to the \"waist\" and mimic a one DoF \"shoulder\" and a one DoF \"elbow\"\n",
    "\n",
    "**Pros:**\n",
    "- Large workspace\n",
    "- Compact design\n",
    "\n",
    "**Cons:**\n",
    "- Positional accuracy and repeatability is not as good as some other designs\n",
    "\n",
    "**Typical Applications:**\n",
    "- Welding, spray painting, deburring, material handling\n",
    "\n",
    "----\n",
    "\n"
   ]
  },
  {
   "cell_type": "markdown",
   "metadata": {},
   "source": [
    "### SCARA (RPP)\n",
    "![SCARA](scara.png)\n",
    "\n",
    "The SCARA, or Selectively Compliant Assembly Robot Arm, was invented by Professor Hiroshi Makino of Yamanashi University (Japan) in the early 1980s. SCARA robots typically employ a single revolute wrist with the axis of rotation parallel to the other two revolute joints. Since the base link typically houses the actuators for the first two joints, the actuators can be very large and the moving links relatively light. Thus, **very high angular speeds** are obtainable with this design. The arm is very stiff in the vertical (z-axis), but very compliant in the x-y plane, which makes it ideal for the tasks such as inserting pegs or other fasteners into holes.\n",
    "\n",
    "**Pros:**\n",
    "- Fast\n",
    "- Compact structure\n",
    "\n",
    "**Cons:**\n",
    "- Operations requiring large vertical motions\n",
    "\n",
    "**Typical Applications:**\n",
    "- Precision, high-speed, light assembly with a planar environment\n",
    "\n",
    "----\n",
    "\n"
   ]
  },
  {
   "cell_type": "markdown",
   "metadata": {},
   "source": [
    "### Spherical (RRP)\n",
    "![Spherical Manipulator](spherical-manipulator.png)\n",
    "\n",
    "Like the cylindrical manipulator, the spherical manipulator's wrist center can also be described as a well-known coordinate system. Probably the best known version of this kinematic type is Stanford's Scheinman arm, invented by Victor Scheinman in 1969.\n",
    "\n",
    "It was adapted by manufacturers to become the leading robot in assembling and spot-welding products , ranging from fuel pumps and windshield wipers for automobiles to inkjet cartridges for printers.\n",
    "\n",
    "**Pros:**\n",
    "- Large working envelope\n",
    "\n",
    "**Cons:**\n",
    "- Complex coordinates, more difficult to visualize, control and program\n",
    "- Low accuracy\n",
    "- Relatively slow\n",
    "\n",
    "**Typical Applications:**\n",
    "- Material handling\n",
    "- Spot welding\n",
    "\n",
    "\n",
    "----\n",
    "\n"
   ]
  },
  {
   "cell_type": "markdown",
   "metadata": {},
   "source": [
    "One other type that we do not cover in this course, but should be aware of, is called ***parallel manipulator***. [Parallel manipulators](https://en.wikipedia.org/wiki/Parallel_manipulator) have many variants but they are characterized by all having at least one closed kinematic chain. The dynamics and control strategies can be quite more complex than serial manipulators, but in general they have more **precise movements due to their structural rigidity**.\n",
    "![Parallel Manipulators](parallel-manipulator.png)"
   ]
  },
  {
   "cell_type": "markdown",
   "metadata": {},
   "source": [
    "## Forward and Inverse Kinematics\n",
    "\n",
    "Manipulators have actuators that control prismatic and revolute joints, and the motion of these joints can be highly non-linear. Converting the manipulator's general coordinates into the position of the end effector, is known as solving the *Forward kinematics problem*. The first step to solving the forward kinematics problem is to see how to express vectors in different reference frames."
   ]
  },
  {
   "cell_type": "markdown",
   "metadata": {},
   "source": [
    "## Rotation matrices in 2D\n",
    "\n",
    "Rotation matrices have two conceptual, but mathematically equivalent interpretations. They can be viewed as a means of \"expressing\" a vector in one coordinate frame in terms of some other coordinate frame. This interpretation is known as *mapping* between frames.\n",
    "\n",
    "Alternatively, a rotation matrix can be seen as an \"operator\" that actually moves a vector within a single coordiante frame. It is important to be aware of this conceptual distinction because the particular application will dictate which description is used, but **do not let it confuse you: it's the same math!**\n",
    "\n",
    "![Rotation Matrices](rotation-matrices.png)\n",
    "\n",
    "Let's again consider a vector, v, with respect to reference frames A and B and take a more formal look at how to express v, whose measure numbers we may know in frame A, in terms of frame B:\n",
    "\n",
    "\n",
    "![](vector-v.png)\n",
    "![](vector-v-2.png)\n",
    "![](vector-v-3.png)\n",
    "![](vector-v-4.png)\n",
    "![](vector-v-5.png)\n"
   ]
  },
  {
   "cell_type": "markdown",
   "metadata": {},
   "source": [
    "The first term on the right-hand side of the equality in equation (5) is known as a rotation matrix and is generally written in a more compact form. Examining the columns of the rotation matrix, you can see that they are in fact basis vectors of frame B expressed in terms of the frame A. That is, \n",
    "\n",
    "![](rotation-matrix-1.png)\n",
    "\n",
    "Looking carefully, you may also notice something else - the rows of R are the projection of the A-frame onto B\n",
    "![](rotation-matrix-2.png)\n",
    "This relationship is interesting because it implies that the rotation from A to B is equal to the transpose of the rotation B to A. In fact, because rotation matrices are orthonormal matrices (composed of orthogonal unit vectors), they have several useful properties that, for the sake of brevity, we summarize without proof.\n",
    "\n",
    "Important properties of the rotation matrix:\n",
    "\n",
    "- 1) The transpose is equal to its inverse\n",
    "- 2) The determinant is equal to +1 (assuming a right-handed coordinate system)\n",
    "- 3) Columns (and rows) are mutually orthogonal unit vectors, therefore the maginuted of any column (or row) is equal to one and the dot product of any two columns (or rows) is equal to zero.\n",
    "- 4) The columns define the basis vectors (i.e. x,y,z axes) of the rotated frame, relative to the base frame. \n",
    "\n",
    "![](rotation-matrix-4.png)\n",
    "\n",
    "----\n",
    "\n",
    "A rotation around an axis of a coordinate frame is usually refered to as a *elementary rotation*"
   ]
  },
  {
   "cell_type": "markdown",
   "metadata": {},
   "source": [
    "Rotation matrix around z-axis\n",
    "![](rotation-matrix-z.png)"
   ]
  },
  {
   "cell_type": "markdown",
   "metadata": {},
   "source": [
    "SymPy is a full-featured computer algebra system (CAS) that enables us to construct and manipulate matrices symbolically and then numerically evaluate them when needed.\n",
    "\n",
    "Deriving expressions symbolically has two advantages:\n",
    "- First, seeing the equations can giive more insight into the system, at least for reasonably simple systems.\n",
    "- Second, there are numerical advantages. Since computers cannot perform floating point operations with infinite precision, there is inherently some amount of error in floating point ops and the errors can grow with the number of ops performed."
   ]
  },
  {
   "cell_type": "code",
   "execution_count": 1,
   "metadata": {},
   "outputs": [],
   "source": [
    "from sympy import symbols, cos, sin, pi, simplify\n",
    "from sympy.matrices import Matrix\n",
    "import numpy as np"
   ]
  },
  {
   "cell_type": "code",
   "execution_count": 2,
   "metadata": {},
   "outputs": [],
   "source": [
    "# Create symbols for joint variables which are commonly represented by \"q\"\n",
    "# Joint variable q is equal to theta or d, depending if the joint is revolute or prismatic\n",
    "q1, q2, q3, q4 = symbols('q1:5') # slices do not include the end value\n",
    "# unrelated symbols can be defined like this:\n",
    "A, R, O, C = symbols('A R O C')"
   ]
  },
  {
   "cell_type": "code",
   "execution_count": 3,
   "metadata": {},
   "outputs": [],
   "source": [
    "# Conversation factors\n",
    "r2d = 180. / np.pi # radians to degrees\n",
    "d2r = np.pi / 180. # degrees to radians"
   ]
  },
  {
   "cell_type": "code",
   "execution_count": 4,
   "metadata": {},
   "outputs": [],
   "source": [
    "# Create rotation matrices for elementary rotations about the X, Y and Z axes, respectively. \n",
    "# Matrices are constructed using the Matrix object. \n",
    "R_x = Matrix([[1, 0, 0],\n",
    "              [0, cos(q1), -sin(q1)],\n",
    "              [0, sin(q1), cos(q1)]])\n",
    "\n",
    "R_y = Matrix([[cos(q2), 0, sin(q2)],\n",
    "              [0, 1, 0],\n",
    "              [-sin(q2), 0, cos(q2)]])\n",
    "\n",
    "R_z = Matrix([[cos(q3), -sin(q3), 0],\n",
    "              [sin(q3), cos(q3), 0],\n",
    "              [0, 0, 1]])"
   ]
  },
  {
   "cell_type": "markdown",
   "metadata": {},
   "source": [
    "A dictionary is passed to the symbolic expression and the evalf method evaluates it as a floating point. The dictionary allows you to substitute multiple values simultaneously."
   ]
  },
  {
   "cell_type": "code",
   "execution_count": 5,
   "metadata": {},
   "outputs": [
    {
     "name": "stdout",
     "output_type": "stream",
     "text": [
      "Rotation about the X-axis by 45-degrees\n",
      "Matrix([[1.00000000000000, 0, 0], [0, 0.707106781186548, -0.707106781186547], [0, 0.707106781186547, 0.707106781186548]])\n",
      "Rotation about the Y-axis by 45-degrees\n",
      "Matrix([[0.707106781186548, 0, 0.707106781186547], [0, 1.00000000000000, 0], [-0.707106781186547, 0, 0.707106781186548]])\n",
      "Rotationt about the Z-axis by 30-degrees\n",
      "Matrix([[0.866025403784439, -0.500000000000000, 0], [0.500000000000000, 0.866025403784439, 0], [0, 0, 1.00000000000000]])\n"
     ]
    }
   ],
   "source": [
    "print(\"Rotation about the X-axis by 45-degrees\")\n",
    "print(R_x.evalf(subs={q1: 45*d2r}))\n",
    "print(\"Rotation about the Y-axis by 45-degrees\")\n",
    "print(R_y.evalf(subs={q2: 45*d2r}))\n",
    "print(\"Rotationt about the Z-axis by 30-degrees\")\n",
    "print(R_z.evalf(subs={q3: 30*d2r}))"
   ]
  },
  {
   "cell_type": "markdown",
   "metadata": {},
   "source": [
    "## Euler Angles\n",
    "There are numerous conventions regarding the use of Euler Angles, so you must identify which conventions are being used:\n",
    "- 1) Tait-Bryan vs Classic\n",
    "- 2) Rotation Order\n",
    "- 3) Intrinsic (body fixed) rotations vs Extrinsic (fixed axis) rotations\n",
    "\n",
    "**Tait-Bryan vs Classic**\n",
    "Each elementary rotation is performed about a *different* cartesian axis.\n",
    "![](tait-bryan-vs-classic.png)\n",
    "\n",
    "\n",
    "**Rotation Order**\n",
    "Rotations are non-commutative operations, i.e. order matters.\n",
    "Rotation about Y-axis, followed by a Z-axis will not result in the same result as doing it vice-versa.\n",
    "\n",
    "\n",
    "**Extrinsic vs Intrinsic**\n",
    "Extrinsic rotations are performed about the *fixed world reference frame*, in literature often refered to as Fixed-axis rotations.\n",
    "Intrinsic rotations are performed about the coordinate system as rotated by the *previous operation*.\n",
    "\n",
    "![](extrinsic-rotation.png)\n",
    "![](intrinsic-rotation.png)\n",
    "![](intrinsic-vs-extrinsic.png)\n",
    "\n",
    "Although Euler angles and rotation matrices are relatively intuitive, they do suffer from two significant drawbacks. First, are issues related to numerical performance. Defining the orientation of a rigid body in a three-dimensional environment only requires three generalized coordinates, however, rotation matrices can contain nine elements. Clearly not all nine elements are independent and more memory is required to capture the orientation information than is required using a minimal set.\n",
    "\n",
    "Rotation matrices are also not very *numerically stable*. Rounding errors associated with the repeated multiplication of rotation matrices also creates *numerical drift*. This means, that over time, the orthonormality conditions can be violated and the matrix no longer will be a valid rotation matrix. Also, it is a non-trivial task to interpolate smoothly between two rotation matrices (this is particularly important for computer animations when trying to generate smooth animations between key frames).\n",
    "\n",
    "The second significant drawback is singularities of representation (not to be confused with kinematic singularities). Singularities of representation occur when the second rotation in sequence is such that the first and third coordinate frames become aligned, causing a loss of a degree of freedom. This is often called *\"gimbal lock\"*. In the case of the Z-Y-X rotation sequence used in Eq4, observe what happens to the overall rotation matrix when beta = pi / 2\n",
    "\n",
    "![](gimbal-lock.png)\n",
    "\n",
    "Notice that no matter what the angles alpha and gamma may be, they have no effect on the X component. It is important to note that there is nothing wrong or physically inhibiting rotational motion, it is rather a mathematical deficiency in the choice of representing rotational motions. Further, ALL conventions using only three parameters to describe orientation, suffer from singularities of representation. Therefore, a key consideration to using Euler angles in practice is to ensure that the range of motion of the object of interest does not come close to a singularity.\n"
   ]
  },
  {
   "cell_type": "code",
   "execution_count": 7,
   "metadata": {},
   "outputs": [],
   "source": [
    "q1, q2 = symbols('q1:3')\n",
    "\n",
    "R_y = Matrix([[cos(q1), 0, sin(q1)],\n",
    "              [0, 1, 0],\n",
    "              [-sin(q1), 0, cos(q1)]])\n",
    "R_z = Matrix([[cos(q2), -sin(q2), 0],\n",
    "              [sin(q2), cos(q2), 0],\n",
    "              [0, 0, 1]])"
   ]
  },
  {
   "cell_type": "code",
   "execution_count": 8,
   "metadata": {},
   "outputs": [
    {
     "name": "stdout",
     "output_type": "stream",
     "text": [
      "Matrix([[0.353553390593274, -0.612372435695794, 0.707106781186547], [0.866025403784439, 0.500000000000000, 0], [-0.353553390593274, 0.612372435695794, 0.707106781186548]])\n"
     ]
    }
   ],
   "source": [
    "YZ_intrinsic_sym = R_y * R_z\n",
    "\n",
    "YZ_intrinsic_num = YZ_intrinsic_sym.evalf(subs={q1: 45*d2r,\n",
    "                                                q2: 60*d2r})\n",
    "print(YZ_intrinsic_num)"
   ]
  },
  {
   "cell_type": "code",
   "execution_count": 13,
   "metadata": {},
   "outputs": [
    {
     "name": "stdout",
     "output_type": "stream",
     "text": [
      "Matrix([[0.353553390593274, -0.612372435695794, 0.707106781186547], [0.866025403784439, 0.500000000000000, 0], [-0.353553390593274, 0.612372435695794, 0.707106781186548]])\n"
     ]
    }
   ],
   "source": [
    "ZY_extrinsic_sym = R_y * R_z\n",
    "ZY_extrinsic_num = (ZY_extrinsic_sym.evalf(subs={q1: 45*d2r,\n",
    "                                                q2: 60*d2r}))\n",
    "print(ZY_extrinsic_num)"
   ]
  },
  {
   "cell_type": "markdown",
   "metadata": {},
   "source": [
    "** An extrinsic rotation sequence of A, B, C is equal to an intrinsic rotation sequence C, B, A **\n",
    "\n",
    "----\n",
    "\n",
    "### Euler Angles from a Rotation Matrix\n",
    "In many cases, particularly involving inverse kinematics, we are given a composite rotation matrix and it is necessary to find a set of Euler Angles that would produce this rotation. The specific solution depends on the choice of Euler Angles, but the basic procedure is the same.\n",
    "\n",
    "Consider the *extrinsic* i.e. fixed-axis X-Y-Z rotation sequence. The composite rotation matrix is,\n",
    "![](extrinsic-rotation-sequence.png)\n"
   ]
  },
  {
   "cell_type": "markdown",
   "metadata": {},
   "source": [
    "The goal is to find the angles alpha, beta and gamma, given that numerical values for r_ij are known. The solution is to use various combinations so that each angle can be individually isolated and solved explicitly. Using the simplest terms possible seems to be a prudent strategy. Although beta appears in isolation element r_31, it is not a good idea to solve for angles using the inverse of the sine or cosine functions. The reason is the ambiguity in sign: if -sin(beta) = 0.5, in which quadrant is the angle? This type of ambiguity is avoided by using the atan2 function. The syntax depends on the language or library used, but is often: `atan2(y,x)`, thus it is posible to find beta, gamma and alpha as follows:\n",
    "\n",
    "![](find-beta.png)\n",
    "![](find-gamma.gif)\n",
    "![](find-alpha.gif)\n",
    "\n",
    "What happens then when cos(beta) = 0, i.e. when beta = +/- 90 degrees? At this point, atan2 is undefined and, as we saw with Euler Angles, the system exhibits a *singularity of representation*."
   ]
  },
  {
   "cell_type": "code",
   "execution_count": null,
   "metadata": {},
   "outputs": [],
   "source": [
    "Thus it is poss"
   ]
  }
 ],
 "metadata": {
  "kernelspec": {
   "display_name": "Python [default]",
   "language": "python",
   "name": "python3"
  },
  "language_info": {
   "codemirror_mode": {
    "name": "ipython",
    "version": 3
   },
   "file_extension": ".py",
   "mimetype": "text/x-python",
   "name": "python",
   "nbconvert_exporter": "python",
   "pygments_lexer": "ipython3",
   "version": "3.5.2"
  },
  "widgets": {
   "state": {},
   "version": "1.1.2"
  }
 },
 "nbformat": 4,
 "nbformat_minor": 2
}
