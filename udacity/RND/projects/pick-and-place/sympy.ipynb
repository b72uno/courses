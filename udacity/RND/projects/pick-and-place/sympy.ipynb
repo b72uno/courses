{
 "cells": [
  {
   "cell_type": "markdown",
   "metadata": {},
   "source": [
    "## Forward Kinematics"
   ]
  },
  {
   "cell_type": "code",
   "execution_count": 2,
   "metadata": {
    "collapsed": false
   },
   "outputs": [],
   "source": [
    "from sympy import symbols, cos, sin, pi, simplify, sqrt, atan2\n",
    "from sympy.matrices import Matrix\n",
    "from numpy import array\n",
    "\n",
    "import numpy as np"
   ]
  },
  {
   "cell_type": "code",
   "execution_count": 3,
   "metadata": {
    "collapsed": true
   },
   "outputs": [],
   "source": [
    "# Create symbols for joint variables\n",
    "alpha0, alpha1, alpha2, alpha3, alpha4, alpha5, alpha6 = symbols('alpha0:7')\n",
    "a0, a1, a2, a3, a4, a5, a6 = symbols('a0:7')\n",
    "d1, d2, d3, d4, d5, d6, d7 = symbols('d1:8')\n",
    "q1, q2, q3, q4, q5, q6, q7 = symbols('q1:8')"
   ]
  },
  {
   "cell_type": "code",
   "execution_count": 4,
   "metadata": {
    "collapsed": false
   },
   "outputs": [],
   "source": [
    "# DH parameter table\n",
    "DH_table = {alpha0: 0, a0: 0, d1:0.75, \n",
    "            alpha1: -pi/2, a1: 0.35, d2: 0, q2: q2-pi/2,\n",
    "            alpha2: 0, a2: 1.25, d3:0,\n",
    "            alpha3: -pi/2, a3: -0.054, d4: 1.50,\n",
    "            alpha4: pi/2, a4: 0, d5: 0,\n",
    "            alpha5: -pi/2, a5: 0, d6: 0,\n",
    "            alpha6: 0, a6: 0, d7: 0.303, q7: 0}"
   ]
  },
  {
   "cell_type": "code",
   "execution_count": 5,
   "metadata": {
    "collapsed": true
   },
   "outputs": [],
   "source": [
    "# Transformation matrix from frame {i-1} to {i}\n",
    "def TF_matrix(alpha, a, d, q):\n",
    "    return Matrix([\n",
    "        [cos(q), -sin(q), 0, a],\n",
    "        [sin(q)*cos(alpha), cos(q)*cos(alpha), -sin(alpha), -sin(alpha)*d],\n",
    "        [sin(q)*sin(alpha), cos(q)*sin(alpha), cos(alpha), cos(alpha)*d],\n",
    "        [0, 0, 0, 1]\n",
    "    ])"
   ]
  },
  {
   "cell_type": "code",
   "execution_count": 6,
   "metadata": {
    "collapsed": true
   },
   "outputs": [],
   "source": [
    "# Individual transformation matrices\n",
    "T0_1 = TF_matrix(alpha0, a0, d1, q1).subs(DH_table)\n",
    "T1_2 = TF_matrix(alpha1, a1, d2, q2).subs(DH_table)\n",
    "T2_3 = TF_matrix(alpha2, a2, d3, q3).subs(DH_table)\n",
    "T3_4 = TF_matrix(alpha3, a3, d4, q4).subs(DH_table)\n",
    "T4_5 = TF_matrix(alpha4, a4, d5, q5).subs(DH_table)\n",
    "T5_6 = TF_matrix(alpha5, a5, d6, q6).subs(DH_table)\n",
    "T6_G = TF_matrix(alpha6, a6, d7, q7).subs(DH_table)"
   ]
  },
  {
   "cell_type": "code",
   "execution_count": 14,
   "metadata": {
    "collapsed": true
   },
   "outputs": [],
   "source": [
    "T0_G = T0_1*T1_2*T2_3*T3_4*T4_5*T5_6*T6_G"
   ]
  },
  {
   "cell_type": "code",
   "execution_count": 15,
   "metadata": {
    "collapsed": false
   },
   "outputs": [
    {
     "name": "stdout",
     "output_type": "stream",
     "text": [
      "Matrix([[0, 0, 1.00000000000000, 2.15300000000000], [0, -1.00000000000000, 0, 0], [1.00000000000000, 0, 0, 1.94600000000000], [0, 0, 0, 1.00000000000000]])\n"
     ]
    }
   ],
   "source": [
    "print(T0_G.evalf(subs={q1:0, q2:0, q3:0, q4:0, q5:0, q6: 0, q7:0}))"
   ]
  },
  {
   "cell_type": "markdown",
   "metadata": {},
   "source": [
    "## Inverse kinematics"
   ]
  },
  {
   "cell_type": "code",
   "execution_count": 17,
   "metadata": {
    "collapsed": false
   },
   "outputs": [],
   "source": [
    "# Correction to gripper link orientation URDF vs DH Convention\n",
    "yaw, pitch, roll = 0, 0, 0\n",
    "\n",
    "R_z = Matrix([  \n",
    "            [cos(q1), -sin(q1), 0],\n",
    "            [sin(q1), cos(q1), 0],                                                                             \n",
    "            [0, 0, 1],                                                                                         \n",
    "            ])\n",
    "R_y = Matrix([  \n",
    "            [cos(q1), 0, sin(q1)],                                                                             \n",
    "            [0, 1, 0],\n",
    "            [-sin(q1), 0, cos(q1)],                                                                            \n",
    "            ])\n",
    "R_x = Matrix([  \n",
    "            [1, 0, 0],\n",
    "            [0, cos(q1), -sin(q1)],\n",
    "            [0, sin(q1), cos(q1)],                                                                             \n",
    "            ])                                                                                                 \n",
    "R_corr = (R_z.subs({q1:pi}) * R_y.subs({q1:-pi/2}))\n",
    "\n",
    "Rrpy = R_z.subs({q1:yaw}) * R_y.subs({q1:pitch}) * R_x.subs({q1:roll}) * R_corr"
   ]
  },
  {
   "cell_type": "code",
   "execution_count": null,
   "metadata": {
    "collapsed": true
   },
   "outputs": [],
   "source": [
    "# Vector along z-axis\n",
    "nx, ny, nz = Rrpy[:,2] # z-axis\n",
    "\n",
    "d = 0.303 # from URDF file\n",
    "\n",
    "# Position of the wrist center\n",
    "wx = px - d * nx\n",
    "wy = py - d * ny\n",
    "wz = pz - d * nz\n",
    "\n",
    "            # Calculate joint angles using Geometric IK method\n",
    "            theta1 = atan2(wy, wx)\n",
    "\n",
    "            # magic numbers below from modified DH table\n",
    "            side_a = 1.501 # sqrt(a3^2 + d4^2)\n",
    "            side_b = sqrt(pow((sqrt(wx * wx + wy * wy) - 0.35), 2) + pow(wz - 0.75, 2)) # a1, d1\n",
    "            side_c = 1.25 # a2\n",
    "\n",
    "            # Law of cosines\n",
    "            angle_a = acos((side_b * side_b + side_c * side_c - side_a * side_a) / (2 * side_b * side_c))\n",
    "            angle_b = acos((side_a * side_a + side_c * side_c - side_b * side_b) / (2 * side_a * side_c))\n",
    "            angle_c = acos((side_a * side_a + side_b * side_b - side_c * side_c) / (2 * side_a * side_b))\n",
    "\n",
    "            # mind the offset\n",
    "            theta2 = pi/2 - angle_a - atan2(wz - 0.75, sqrt(wx * wx + wy * wy) - 0.35) # d1, a1\n",
    "            theta3 = pi/2 - (angle_b + 0.036) # abs(a3/d4) * dtr\n",
    "\n",
    "            # Rotation matrix\n",
    "            T0_3 = T0_1[:3,:3] * T1_2[:3,:3] * T2_3[:3,:3]\n",
    "            R0_3 = T0_3.evalf(subs={q1: theta1, q2: theta2, q3: theta3})\n",
    "            # somehow transpose() seems to work better than .inv(\"LU\"), less redundant wrist rotations\n",
    "            R3_6 = R0_3.transpose() * Rrpy\n",
    "\n",
    "            # Euler angles from a Rotation matrix\n",
    "            theta4 = atan2(R3_6[2,2], -R3_6[0,2])\n",
    "            theta5 = atan2(sqrt(R3_6[0,2]*R3_6[0,2]+R3_6[2,2]*R3_6[2,2]),R3_6[1,2])\n",
    "            theta6 = atan2(-R3_6[1,1], R3_6[1,0])\n",
    "            ###\n"
   ]
  }
 ],
 "metadata": {
  "kernelspec": {
   "display_name": "Python 3",
   "language": "python",
   "name": "python3"
  },
  "language_info": {
   "codemirror_mode": {
    "name": "ipython",
    "version": 3
   },
   "file_extension": ".py",
   "mimetype": "text/x-python",
   "name": "python",
   "nbconvert_exporter": "python",
   "pygments_lexer": "ipython3",
   "version": "3.6.0"
  }
 },
 "nbformat": 4,
 "nbformat_minor": 2
}
