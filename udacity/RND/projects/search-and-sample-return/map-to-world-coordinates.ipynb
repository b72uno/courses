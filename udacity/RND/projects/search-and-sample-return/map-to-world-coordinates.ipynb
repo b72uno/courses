{
 "cells": [
  {
   "cell_type": "code",
   "execution_count": 29,
   "metadata": {
    "collapsed": true
   },
   "outputs": [],
   "source": [
    "import matplotlib.pyplot as plt\n",
    "import matplotlib.image as mpimg\n",
    "import numpy as np\n",
    "import cv2\n",
    "from extra_functions import perspect_transform, color_thresh, rover_coords"
   ]
  },
  {
   "cell_type": "code",
   "execution_count": 30,
   "metadata": {
    "collapsed": false
   },
   "outputs": [],
   "source": [
    "# Read in the sample image\n",
    "image = mpimg.imread('perception_course_sample.jpg')"
   ]
  },
  {
   "cell_type": "code",
   "execution_count": 56,
   "metadata": {
    "collapsed": true
   },
   "outputs": [],
   "source": [
    "# Control the variation for multiple runs\n",
    "# np.random.seed(1)"
   ]
  },
  {
   "cell_type": "code",
   "execution_count": 49,
   "metadata": {
    "collapsed": false
   },
   "outputs": [],
   "source": [
    "# Rover yaw values will come as floats from 0 to 360\n",
    "# Generate a random value in this range\n",
    "# Note:Covert to rads, before adding to pixel_angles\n",
    "rover_yaw = np.random.random(1)*360\n",
    "\n",
    "# Generate a random rover position in worlds coords\n",
    "# Position values wil lrange from 20 to 180 to avoid\n",
    "# the edges in a 200x200 px world\n",
    "rover_xpos = np.random.random(1)*160 + 20\n",
    "rover_ypos = np.random.random(1)*160 + 20"
   ]
  },
  {
   "cell_type": "markdown",
   "metadata": {},
   "source": [
    "![](rotation.png)"
   ]
  },
  {
   "cell_type": "code",
   "execution_count": 50,
   "metadata": {
    "collapsed": true
   },
   "outputs": [],
   "source": [
    "def rotate_pix(xpix, ypix, yaw):\n",
    "    # Apply rotation to pixel positions, input yaw angle in degrees\n",
    "    yaw_rad = yaw * np.pi / 180\n",
    "    x_rotated = xpix * np.cos(yaw_rad) - ypix * np.sin(yaw_rad)\n",
    "    y_rotated = xpix * np.sin(yaw_rad) + ypix * np.cos(yaw_rad)\n",
    "    return x_rotated, y_rotated"
   ]
  },
  {
   "cell_type": "code",
   "execution_count": 51,
   "metadata": {
    "collapsed": true
   },
   "outputs": [],
   "source": [
    "def translate_pix(xpix_rot, ypix_rot, xpos, ypos, scale):\n",
    "    # Perform translation and convert to integer since pixel values cant be float\n",
    "    xpix_translated = np.int_(xpos + (xpix_rot / scale))\n",
    "    ypix_translated = np.int_(ypos + (ypix_rot / scale))\n",
    "    \n",
    "    return xpix_translated, ypix_translated"
   ]
  },
  {
   "cell_type": "code",
   "execution_count": 52,
   "metadata": {
    "collapsed": true
   },
   "outputs": [],
   "source": [
    "def pix_to_world(xpix, ypix, xpos, ypos, yaw, world_size, scale):\n",
    "    # Rotate\n",
    "    xpix_rot, ypix_rot = rotate_pix(xpix, ypix, yaw)\n",
    "    # Translate\n",
    "    xpix_tran, ypix_tran = translate_pix(xpix_rot, ypix_rot, xpos, ypos, scale)\n",
    "    # Clip to world size\n",
    "    x_pix_world = np.clip(np.int_(xpix_tran), 0, world_size - 1)\n",
    "    y_pix_world = np.clip(np.int_(ypix_tran), 0, world_size - 1)\n",
    "    \n",
    "    return x_pix_world, y_pix_world"
   ]
  },
  {
   "cell_type": "markdown",
   "metadata": {},
   "source": [
    "### Warping and color thresholding"
   ]
  },
  {
   "cell_type": "markdown",
   "metadata": {},
   "source": [
    "Define calibration box in source (actual) and destination (desired) coordinates\n",
    "These source and destination points are defined to warp the image to a grid where each 10x10 pixel square represents 1 square meter"
   ]
  },
  {
   "cell_type": "code",
   "execution_count": 53,
   "metadata": {
    "collapsed": false
   },
   "outputs": [
    {
     "name": "stdout",
     "output_type": "stream",
     "text": [
      "Xpos =  [ 93.14475254] Ypos =  [ 55.84724034] Yaw =  [ 226.70515287]\n"
     ]
    }
   ],
   "source": [
    "dst_size = 5\n",
    "\n",
    "# bottom offset to account for bottom of the image not b eing in the position of the rover \n",
    "# but a bit in front of it\n",
    "bottom_offset = 6\n",
    "\n",
    "source = np.float32([[14,140], [301,140], [200,96], [118,96]])\n",
    "destination = np.float32([[image.shape[1]/2 - dst_size, image.shape[0]  - bottom_offset],\n",
    "                         [image.shape[1]/2 + dst_size, image.shape[0] - bottom_offset],\n",
    "                         [image.shape[1]/2 + dst_size, image.shape[0] - 2*dst_size - bottom_offset],\n",
    "                         [image.shape[1]/2 - dst_size, image.shape[0] - 2*dst_size - bottom_offset],\n",
    "                         ])\n",
    "warped = perspect_transform(image, source, destination)\n",
    "colorsel = color_thresh(warped, rgb_thresh=(160, 160, 160))\n",
    "\n",
    "# Extract navigable terrain pixels\n",
    "xpix, ypix = rover_coords(colorsel)\n",
    "\n",
    "# Generate 200x200 px worldmap\n",
    "worldmap = np.zeros((200,200))\n",
    "scale = 10\n",
    "\n",
    "# Get navigable pixel positions in world coords\n",
    "x_world, y_world = pix_to_world(xpix, ypix, rover_xpos, rover_ypos, rover_yaw,\n",
    "                               worldmap.shape[0], scale)\n",
    "\n",
    "# Add pixel positions to worldmap\n",
    "worldmap[y_world, x_world] += 1\n",
    "print('Xpos = ', rover_xpos, 'Ypos = ', rover_ypos, 'Yaw = ', rover_yaw)"
   ]
  },
  {
   "cell_type": "code",
   "execution_count": 54,
   "metadata": {
    "collapsed": false
   },
   "outputs": [
    {
     "data": {
      "image/png": "[encoded data removed]",
      "text/plain": [
       "<matplotlib.figure.Figure at 0x7f7173d1bac8>"
      ]
     },
     "metadata": {},
     "output_type": "display_data"
    }
   ],
   "source": [
    "# Plot the map in rover-centric coords\n",
    "f, (ax1, ax2) = plt.subplots(1, 2, figsize=(14,7))\n",
    "f.tight_layout()\n",
    "ax1.plot(xpix, ypix, '.')\n",
    "ax1.set_title('Rover Space', fontsize=40)\n",
    "ax1.set_ylim(-160, 160)\n",
    "ax1.set_xlim(0, 160)\n",
    "ax1.tick_params(labelsize=20)\n",
    "\n",
    "ax2.imshow(worldmap, cmap='gray')\n",
    "ax2.set_title('World space', fontsize=40)\n",
    "ax2.set_ylim(0, 200)\n",
    "ax2.tick_params(labelsize=20)\n",
    "ax2.set_xlim(0, 200)\n",
    "\n",
    "plt.subplots_adjust(left=0.1, right=1, top=0.9, bottom=0.1)\n",
    "plt.show()"
   ]
  },
  {
   "cell_type": "code",
   "execution_count": null,
   "metadata": {
    "collapsed": true
   },
   "outputs": [],
   "source": []
  }
 ],
 "metadata": {
  "kernelspec": {
   "display_name": "Python 3",
   "language": "python",
   "name": "python3"
  },
  "language_info": {
   "codemirror_mode": {
    "name": "ipython",
    "version": 3
   },
   "file_extension": ".py",
   "mimetype": "text/x-python",
   "name": "python",
   "nbconvert_exporter": "python",
   "pygments_lexer": "ipython3",
   "version": "3.6.0"
  }
 },
 "nbformat": 4,
 "nbformat_minor": 2
}
