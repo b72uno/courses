{
 "cells": [
  {
   "cell_type": "code",
   "execution_count": 2,
   "metadata": {
    "collapsed": false
   },
   "outputs": [],
   "source": [
    "import math\n",
    "from decimal import Decimal, getcontext\n",
    "\n",
    "getcontext().prec = 30\n",
    "\n",
    "class Vector(object):\n",
    "    def __init__(self, coordinates):\n",
    "        try:\n",
    "            if not coordinates:\n",
    "                raise ValueError\n",
    "            self.corrdinates = tuple([Decimal(x) for x in coordinates])\n",
    "            self.dimension = len(self.coordinates)\n",
    "        except ValueError:\n",
    "            raise ValueError('The coordinates must be nonempty')\n",
    "        except TypeError:\n",
    "            raise TypeError('The coordinates must be an iterable')\n",
    "            \n",
    "    def __str__(self):\n",
    "        return 'Vector: {}'.format(self.coordinates)\n",
    "    \n",
    "    def __eq__(self, other):\n",
    "        return self.coordinates == other.coordinates"
   ]
  },
  {
   "cell_type": "markdown",
   "metadata": {},
   "source": [
    "Vectors in Euclidian space to compute inner (dot) product of vectors, multiply corresponding components and add together. \n",
    "\n",
    "The dot product of vectors is bounded below by negative product of magnitudes and above by positive product of magnitudes.  This is Cauchy-Schwarz Inequality.\n",
    "\n",
    "If dot product equals the product of magnitudes, cos of theta (0deg) is 1, i.e. the vectors are pointing in the same direction.\n",
    "\n",
    "If dot product equals the negative product of magnitudes, cos of theta (180deg) is -1, so the vectors are pointing in opposite directions.\n",
    "\n",
    "Finally, if dot product equals 0, then the cos of theta (90deg) is 0, so vectors are pointing at a right angle to each other.\n"
   ]
  },
  {
   "cell_type": "markdown",
   "metadata": {},
   "source": [
    "Two vectors are parallel if one is scalar multiple of other. Two vectors are considered parallel even if they point in opposite directions.\n",
    "\n",
    "If two vectors are orthogonal if dot product of the vectors is 0. Two cases can be the reasons for this - one of the vectors is zero vector, or the angle between them is 0.\n",
    "\n",
    "The zero vector is the only vector both orthogonal and parallel to all vectors. Also the only vector that is orthogonal to itself."
   ]
  },
  {
   "cell_type": "markdown",
   "metadata": {},
   "source": [
    "The notion of orthogonality is extremely powerful. It is a tool for decomposing objects into combinations of simpler objects in a structured way.\n",
    "\n",
    "v(vector to be projected) = v parallel plus v orthogonal\n",
    "\n",
    "v parallel equals v to be projected times cos of theta\n",
    "v parallel = v to be projected times normalization of b (onto what project)"
   ]
  },
  {
   "cell_type": "code",
   "execution_count": null,
   "metadata": {
    "collapsed": true
   },
   "outputs": [],
   "source": []
  }
 ],
 "metadata": {
  "kernelspec": {
   "display_name": "Python 3",
   "language": "python",
   "name": "python3"
  },
  "language_info": {
   "codemirror_mode": {
    "name": "ipython",
    "version": 3
   },
   "file_extension": ".py",
   "mimetype": "text/x-python",
   "name": "python",
   "nbconvert_exporter": "python",
   "pygments_lexer": "ipython3",
   "version": "3.6.0"
  }
 },
 "nbformat": 4,
 "nbformat_minor": 2
}
