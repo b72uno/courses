{
 "cells": [
  {
   "cell_type": "markdown",
   "metadata": {
    "collapsed": true
   },
   "source": [
    "Q: What to start with in ML? \n",
    "A: Unsupervised learning and generative algorithms"
   ]
  },
  {
   "cell_type": "markdown",
   "metadata": {
    "collapsed": true
   },
   "source": [
    "Architecture engineering is the new feature engineering"
   ]
  },
  {
   "cell_type": "markdown",
   "metadata": {},
   "source": [
    "Three ML types - Supervised, Unsupervised and Reinforcement. Think chess game - Supervised gives feedback every move, unsupervised does nothing even if game won, reinforcement gives feedback only upon winning the game."
   ]
  },
  {
   "cell_type": "markdown",
   "metadata": {},
   "source": [
    "Watch out for outliers!"
   ]
  },
  {
   "cell_type": "markdown",
   "metadata": {},
   "source": [
    "Know and understand the gradient descent like the back of your hand. It is everywhere in ML!"
   ]
  },
  {
   "cell_type": "markdown",
   "metadata": {},
   "source": [
    "Linear regression model + activation function = stuff. Sigmoid function sigmoid(x) = 1/(1+e^-x)\n",
    "There are logistic (sigmoid), tanh and softmax (WAT?) functions used as activation functions."
   ]
  },
  {
   "cell_type": "markdown",
   "metadata": {},
   "source": [
    "A common metric for how wrong the predictions are (the error) is the sum of squared errors.\n",
    "#TODO: LATEX THIS THING, ok?  See Gradient Descent in Intro to Neural Networks "
   ]
  }
 ],
 "metadata": {
  "kernelspec": {
   "display_name": "Python 3",
   "language": "python",
   "name": "python3"
  },
  "language_info": {
   "codemirror_mode": {
    "name": "ipython",
    "version": 3
   },
   "file_extension": ".py",
   "mimetype": "text/x-python",
   "name": "python",
   "nbconvert_exporter": "python",
   "pygments_lexer": "ipython3",
   "version": "3.6.0"
  }
 },
 "nbformat": 4,
 "nbformat_minor": 2
}
